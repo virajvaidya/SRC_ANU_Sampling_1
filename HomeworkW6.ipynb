{
  "nbformat": 4,
  "nbformat_minor": 0,
  "metadata": {
    "colab": {
      "provenance": [],
      "mount_file_id": "1w86k0KLaVtDDnU_JTUqTJmvGmJNDCMU0",
      "authorship_tag": "ABX9TyN8Cpg5UODfTCw6UG5xKsGM",
      "include_colab_link": true
    },
    "kernelspec": {
      "name": "python3",
      "display_name": "Python 3"
    },
    "language_info": {
      "name": "python"
    }
  },
  "cells": [
    {
      "cell_type": "markdown",
      "metadata": {
        "id": "view-in-github",
        "colab_type": "text"
      },
      "source": [
        "<a href=\"https://colab.research.google.com/github/virajvaidya/SRC_ANU_Sampling_1/blob/main/HomeworkW6.ipynb\" target=\"_parent\"><img src=\"https://colab.research.google.com/assets/colab-badge.svg\" alt=\"Open In Colab\"/></a>"
      ]
    },
    {
      "cell_type": "code",
      "execution_count": 27,
      "metadata": {
        "id": "gAjENLToGY7F"
      },
      "outputs": [],
      "source": [
        "import pandas as pd\n",
        "import numpy as np\n",
        "import statistics as st\n",
        "import itertools as it\n",
        "import scipy.stats as stats\n",
        "from matplotlib import pyplot as plt\n",
        "from scipy.stats import norm\n",
        "from scipy.stats import t"
      ]
    },
    {
      "cell_type": "code",
      "source": [
        "pop = pd.read_excel('/content/drive/MyDrive/Sampling I - HW6 data.xls')"
      ],
      "metadata": {
        "id": "wMNAZCP_Ozjt"
      },
      "execution_count": 9,
      "outputs": []
    },
    {
      "cell_type": "code",
      "source": [
        "pop.head(10)"
      ],
      "metadata": {
        "colab": {
          "base_uri": "https://localhost:8080/",
          "height": 363
        },
        "id": "R9ZQ4xRiQo-_",
        "outputId": "0896c3cb-ad1a-4639-a924-083e501bd806"
      },
      "execution_count": 10,
      "outputs": [
        {
          "output_type": "execute_result",
          "data": {
            "text/plain": [
              "   STRATUM  CLUSTER_ID2  ELEMENT  BMI  EVERPREG      PROB\n",
              "0        1            1        1   26         1  0.004167\n",
              "1        1            1        2   42         1  0.004167\n",
              "2        1            1        3   20         1  0.004167\n",
              "3        1            1        4   26         1  0.004167\n",
              "4        1            2        5   19         1  0.004545\n",
              "5        1            2        6   22         0  0.004545\n",
              "6        1            2        7   22         0  0.004545\n",
              "7        1            2        8   49         1  0.004545\n",
              "8        2            3        9   30         1  0.014286\n",
              "9        2            3       10   20         0  0.014286"
            ],
            "text/html": [
              "\n",
              "  <div id=\"df-7ed19776-b07d-4035-b427-e1f1d8520f5a\" class=\"colab-df-container\">\n",
              "    <div>\n",
              "<style scoped>\n",
              "    .dataframe tbody tr th:only-of-type {\n",
              "        vertical-align: middle;\n",
              "    }\n",
              "\n",
              "    .dataframe tbody tr th {\n",
              "        vertical-align: top;\n",
              "    }\n",
              "\n",
              "    .dataframe thead th {\n",
              "        text-align: right;\n",
              "    }\n",
              "</style>\n",
              "<table border=\"1\" class=\"dataframe\">\n",
              "  <thead>\n",
              "    <tr style=\"text-align: right;\">\n",
              "      <th></th>\n",
              "      <th>STRATUM</th>\n",
              "      <th>CLUSTER_ID2</th>\n",
              "      <th>ELEMENT</th>\n",
              "      <th>BMI</th>\n",
              "      <th>EVERPREG</th>\n",
              "      <th>PROB</th>\n",
              "    </tr>\n",
              "  </thead>\n",
              "  <tbody>\n",
              "    <tr>\n",
              "      <th>0</th>\n",
              "      <td>1</td>\n",
              "      <td>1</td>\n",
              "      <td>1</td>\n",
              "      <td>26</td>\n",
              "      <td>1</td>\n",
              "      <td>0.004167</td>\n",
              "    </tr>\n",
              "    <tr>\n",
              "      <th>1</th>\n",
              "      <td>1</td>\n",
              "      <td>1</td>\n",
              "      <td>2</td>\n",
              "      <td>42</td>\n",
              "      <td>1</td>\n",
              "      <td>0.004167</td>\n",
              "    </tr>\n",
              "    <tr>\n",
              "      <th>2</th>\n",
              "      <td>1</td>\n",
              "      <td>1</td>\n",
              "      <td>3</td>\n",
              "      <td>20</td>\n",
              "      <td>1</td>\n",
              "      <td>0.004167</td>\n",
              "    </tr>\n",
              "    <tr>\n",
              "      <th>3</th>\n",
              "      <td>1</td>\n",
              "      <td>1</td>\n",
              "      <td>4</td>\n",
              "      <td>26</td>\n",
              "      <td>1</td>\n",
              "      <td>0.004167</td>\n",
              "    </tr>\n",
              "    <tr>\n",
              "      <th>4</th>\n",
              "      <td>1</td>\n",
              "      <td>2</td>\n",
              "      <td>5</td>\n",
              "      <td>19</td>\n",
              "      <td>1</td>\n",
              "      <td>0.004545</td>\n",
              "    </tr>\n",
              "    <tr>\n",
              "      <th>5</th>\n",
              "      <td>1</td>\n",
              "      <td>2</td>\n",
              "      <td>6</td>\n",
              "      <td>22</td>\n",
              "      <td>0</td>\n",
              "      <td>0.004545</td>\n",
              "    </tr>\n",
              "    <tr>\n",
              "      <th>6</th>\n",
              "      <td>1</td>\n",
              "      <td>2</td>\n",
              "      <td>7</td>\n",
              "      <td>22</td>\n",
              "      <td>0</td>\n",
              "      <td>0.004545</td>\n",
              "    </tr>\n",
              "    <tr>\n",
              "      <th>7</th>\n",
              "      <td>1</td>\n",
              "      <td>2</td>\n",
              "      <td>8</td>\n",
              "      <td>49</td>\n",
              "      <td>1</td>\n",
              "      <td>0.004545</td>\n",
              "    </tr>\n",
              "    <tr>\n",
              "      <th>8</th>\n",
              "      <td>2</td>\n",
              "      <td>3</td>\n",
              "      <td>9</td>\n",
              "      <td>30</td>\n",
              "      <td>1</td>\n",
              "      <td>0.014286</td>\n",
              "    </tr>\n",
              "    <tr>\n",
              "      <th>9</th>\n",
              "      <td>2</td>\n",
              "      <td>3</td>\n",
              "      <td>10</td>\n",
              "      <td>20</td>\n",
              "      <td>0</td>\n",
              "      <td>0.014286</td>\n",
              "    </tr>\n",
              "  </tbody>\n",
              "</table>\n",
              "</div>\n",
              "    <div class=\"colab-df-buttons\">\n",
              "\n",
              "  <div class=\"colab-df-container\">\n",
              "    <button class=\"colab-df-convert\" onclick=\"convertToInteractive('df-7ed19776-b07d-4035-b427-e1f1d8520f5a')\"\n",
              "            title=\"Convert this dataframe to an interactive table.\"\n",
              "            style=\"display:none;\">\n",
              "\n",
              "  <svg xmlns=\"http://www.w3.org/2000/svg\" height=\"24px\" viewBox=\"0 -960 960 960\">\n",
              "    <path d=\"M120-120v-720h720v720H120Zm60-500h600v-160H180v160Zm220 220h160v-160H400v160Zm0 220h160v-160H400v160ZM180-400h160v-160H180v160Zm440 0h160v-160H620v160ZM180-180h160v-160H180v160Zm440 0h160v-160H620v160Z\"/>\n",
              "  </svg>\n",
              "    </button>\n",
              "\n",
              "  <style>\n",
              "    .colab-df-container {\n",
              "      display:flex;\n",
              "      gap: 12px;\n",
              "    }\n",
              "\n",
              "    .colab-df-convert {\n",
              "      background-color: #E8F0FE;\n",
              "      border: none;\n",
              "      border-radius: 50%;\n",
              "      cursor: pointer;\n",
              "      display: none;\n",
              "      fill: #1967D2;\n",
              "      height: 32px;\n",
              "      padding: 0 0 0 0;\n",
              "      width: 32px;\n",
              "    }\n",
              "\n",
              "    .colab-df-convert:hover {\n",
              "      background-color: #E2EBFA;\n",
              "      box-shadow: 0px 1px 2px rgba(60, 64, 67, 0.3), 0px 1px 3px 1px rgba(60, 64, 67, 0.15);\n",
              "      fill: #174EA6;\n",
              "    }\n",
              "\n",
              "    .colab-df-buttons div {\n",
              "      margin-bottom: 4px;\n",
              "    }\n",
              "\n",
              "    [theme=dark] .colab-df-convert {\n",
              "      background-color: #3B4455;\n",
              "      fill: #D2E3FC;\n",
              "    }\n",
              "\n",
              "    [theme=dark] .colab-df-convert:hover {\n",
              "      background-color: #434B5C;\n",
              "      box-shadow: 0px 1px 3px 1px rgba(0, 0, 0, 0.15);\n",
              "      filter: drop-shadow(0px 1px 2px rgba(0, 0, 0, 0.3));\n",
              "      fill: #FFFFFF;\n",
              "    }\n",
              "  </style>\n",
              "\n",
              "    <script>\n",
              "      const buttonEl =\n",
              "        document.querySelector('#df-7ed19776-b07d-4035-b427-e1f1d8520f5a button.colab-df-convert');\n",
              "      buttonEl.style.display =\n",
              "        google.colab.kernel.accessAllowed ? 'block' : 'none';\n",
              "\n",
              "      async function convertToInteractive(key) {\n",
              "        const element = document.querySelector('#df-7ed19776-b07d-4035-b427-e1f1d8520f5a');\n",
              "        const dataTable =\n",
              "          await google.colab.kernel.invokeFunction('convertToInteractive',\n",
              "                                                    [key], {});\n",
              "        if (!dataTable) return;\n",
              "\n",
              "        const docLinkHtml = 'Like what you see? Visit the ' +\n",
              "          '<a target=\"_blank\" href=https://colab.research.google.com/notebooks/data_table.ipynb>data table notebook</a>'\n",
              "          + ' to learn more about interactive tables.';\n",
              "        element.innerHTML = '';\n",
              "        dataTable['output_type'] = 'display_data';\n",
              "        await google.colab.output.renderOutput(dataTable, element);\n",
              "        const docLink = document.createElement('div');\n",
              "        docLink.innerHTML = docLinkHtml;\n",
              "        element.appendChild(docLink);\n",
              "      }\n",
              "    </script>\n",
              "  </div>\n",
              "\n",
              "\n",
              "<div id=\"df-59026052-ef8b-42a3-8b57-685a30628b05\">\n",
              "  <button class=\"colab-df-quickchart\" onclick=\"quickchart('df-59026052-ef8b-42a3-8b57-685a30628b05')\"\n",
              "            title=\"Suggest charts\"\n",
              "            style=\"display:none;\">\n",
              "\n",
              "<svg xmlns=\"http://www.w3.org/2000/svg\" height=\"24px\"viewBox=\"0 0 24 24\"\n",
              "     width=\"24px\">\n",
              "    <g>\n",
              "        <path d=\"M19 3H5c-1.1 0-2 .9-2 2v14c0 1.1.9 2 2 2h14c1.1 0 2-.9 2-2V5c0-1.1-.9-2-2-2zM9 17H7v-7h2v7zm4 0h-2V7h2v10zm4 0h-2v-4h2v4z\"/>\n",
              "    </g>\n",
              "</svg>\n",
              "  </button>\n",
              "\n",
              "<style>\n",
              "  .colab-df-quickchart {\n",
              "      --bg-color: #E8F0FE;\n",
              "      --fill-color: #1967D2;\n",
              "      --hover-bg-color: #E2EBFA;\n",
              "      --hover-fill-color: #174EA6;\n",
              "      --disabled-fill-color: #AAA;\n",
              "      --disabled-bg-color: #DDD;\n",
              "  }\n",
              "\n",
              "  [theme=dark] .colab-df-quickchart {\n",
              "      --bg-color: #3B4455;\n",
              "      --fill-color: #D2E3FC;\n",
              "      --hover-bg-color: #434B5C;\n",
              "      --hover-fill-color: #FFFFFF;\n",
              "      --disabled-bg-color: #3B4455;\n",
              "      --disabled-fill-color: #666;\n",
              "  }\n",
              "\n",
              "  .colab-df-quickchart {\n",
              "    background-color: var(--bg-color);\n",
              "    border: none;\n",
              "    border-radius: 50%;\n",
              "    cursor: pointer;\n",
              "    display: none;\n",
              "    fill: var(--fill-color);\n",
              "    height: 32px;\n",
              "    padding: 0;\n",
              "    width: 32px;\n",
              "  }\n",
              "\n",
              "  .colab-df-quickchart:hover {\n",
              "    background-color: var(--hover-bg-color);\n",
              "    box-shadow: 0 1px 2px rgba(60, 64, 67, 0.3), 0 1px 3px 1px rgba(60, 64, 67, 0.15);\n",
              "    fill: var(--button-hover-fill-color);\n",
              "  }\n",
              "\n",
              "  .colab-df-quickchart-complete:disabled,\n",
              "  .colab-df-quickchart-complete:disabled:hover {\n",
              "    background-color: var(--disabled-bg-color);\n",
              "    fill: var(--disabled-fill-color);\n",
              "    box-shadow: none;\n",
              "  }\n",
              "\n",
              "  .colab-df-spinner {\n",
              "    border: 2px solid var(--fill-color);\n",
              "    border-color: transparent;\n",
              "    border-bottom-color: var(--fill-color);\n",
              "    animation:\n",
              "      spin 1s steps(1) infinite;\n",
              "  }\n",
              "\n",
              "  @keyframes spin {\n",
              "    0% {\n",
              "      border-color: transparent;\n",
              "      border-bottom-color: var(--fill-color);\n",
              "      border-left-color: var(--fill-color);\n",
              "    }\n",
              "    20% {\n",
              "      border-color: transparent;\n",
              "      border-left-color: var(--fill-color);\n",
              "      border-top-color: var(--fill-color);\n",
              "    }\n",
              "    30% {\n",
              "      border-color: transparent;\n",
              "      border-left-color: var(--fill-color);\n",
              "      border-top-color: var(--fill-color);\n",
              "      border-right-color: var(--fill-color);\n",
              "    }\n",
              "    40% {\n",
              "      border-color: transparent;\n",
              "      border-right-color: var(--fill-color);\n",
              "      border-top-color: var(--fill-color);\n",
              "    }\n",
              "    60% {\n",
              "      border-color: transparent;\n",
              "      border-right-color: var(--fill-color);\n",
              "    }\n",
              "    80% {\n",
              "      border-color: transparent;\n",
              "      border-right-color: var(--fill-color);\n",
              "      border-bottom-color: var(--fill-color);\n",
              "    }\n",
              "    90% {\n",
              "      border-color: transparent;\n",
              "      border-bottom-color: var(--fill-color);\n",
              "    }\n",
              "  }\n",
              "</style>\n",
              "\n",
              "  <script>\n",
              "    async function quickchart(key) {\n",
              "      const quickchartButtonEl =\n",
              "        document.querySelector('#' + key + ' button');\n",
              "      quickchartButtonEl.disabled = true;  // To prevent multiple clicks.\n",
              "      quickchartButtonEl.classList.add('colab-df-spinner');\n",
              "      try {\n",
              "        const charts = await google.colab.kernel.invokeFunction(\n",
              "            'suggestCharts', [key], {});\n",
              "      } catch (error) {\n",
              "        console.error('Error during call to suggestCharts:', error);\n",
              "      }\n",
              "      quickchartButtonEl.classList.remove('colab-df-spinner');\n",
              "      quickchartButtonEl.classList.add('colab-df-quickchart-complete');\n",
              "    }\n",
              "    (() => {\n",
              "      let quickchartButtonEl =\n",
              "        document.querySelector('#df-59026052-ef8b-42a3-8b57-685a30628b05 button');\n",
              "      quickchartButtonEl.style.display =\n",
              "        google.colab.kernel.accessAllowed ? 'block' : 'none';\n",
              "    })();\n",
              "  </script>\n",
              "</div>\n",
              "\n",
              "    </div>\n",
              "  </div>\n"
            ],
            "application/vnd.google.colaboratory.intrinsic+json": {
              "type": "dataframe",
              "variable_name": "pop",
              "summary": "{\n  \"name\": \"pop\",\n  \"rows\": 40,\n  \"fields\": [\n    {\n      \"column\": \"STRATUM\",\n      \"properties\": {\n        \"dtype\": \"number\",\n        \"std\": 1,\n        \"min\": 1,\n        \"max\": 5,\n        \"num_unique_values\": 5,\n        \"samples\": [\n          2,\n          5,\n          3\n        ],\n        \"semantic_type\": \"\",\n        \"description\": \"\"\n      }\n    },\n    {\n      \"column\": \"CLUSTER_ID2\",\n      \"properties\": {\n        \"dtype\": \"number\",\n        \"std\": 2,\n        \"min\": 1,\n        \"max\": 10,\n        \"num_unique_values\": 10,\n        \"samples\": [\n          9,\n          2,\n          6\n        ],\n        \"semantic_type\": \"\",\n        \"description\": \"\"\n      }\n    },\n    {\n      \"column\": \"ELEMENT\",\n      \"properties\": {\n        \"dtype\": \"number\",\n        \"std\": 11,\n        \"min\": 1,\n        \"max\": 40,\n        \"num_unique_values\": 40,\n        \"samples\": [\n          20,\n          17,\n          16\n        ],\n        \"semantic_type\": \"\",\n        \"description\": \"\"\n      }\n    },\n    {\n      \"column\": \"BMI\",\n      \"properties\": {\n        \"dtype\": \"number\",\n        \"std\": 7,\n        \"min\": 19,\n        \"max\": 49,\n        \"num_unique_values\": 22,\n        \"samples\": [\n          26,\n          35,\n          24\n        ],\n        \"semantic_type\": \"\",\n        \"description\": \"\"\n      }\n    },\n    {\n      \"column\": \"EVERPREG\",\n      \"properties\": {\n        \"dtype\": \"number\",\n        \"std\": 0,\n        \"min\": 0,\n        \"max\": 1,\n        \"num_unique_values\": 2,\n        \"samples\": [\n          0,\n          1\n        ],\n        \"semantic_type\": \"\",\n        \"description\": \"\"\n      }\n    },\n    {\n      \"column\": \"PROB\",\n      \"properties\": {\n        \"dtype\": \"number\",\n        \"std\": 0.0033961473623578165,\n        \"min\": 0.0021505376344086026,\n        \"max\": 0.014285714285714285,\n        \"num_unique_values\": 10,\n        \"samples\": [\n          0.008230452674897118,\n          0.004545454545454546\n        ],\n        \"semantic_type\": \"\",\n        \"description\": \"\"\n      }\n    }\n  ]\n}"
            }
          },
          "metadata": {},
          "execution_count": 10
        }
      ]
    },
    {
      "cell_type": "markdown",
      "source": [
        "## Q 1 a Compute the sampling weight for each selected woman in your sample"
      ],
      "metadata": {
        "id": "weZaNifaSD23"
      }
    },
    {
      "cell_type": "code",
      "source": [
        "def compute_sampling_weights(file_path):\n",
        "    df = pop\n",
        "\n",
        "    df['sampling_weight'] = 1 / df['PROB']\n",
        "\n",
        "    return df[['STRATUM', 'CLUSTER_ID2', 'ELEMENT', 'sampling_weight']]"
      ],
      "metadata": {
        "id": "b09wsg7NO-vp"
      },
      "execution_count": 16,
      "outputs": []
    },
    {
      "cell_type": "code",
      "source": [
        "weights_pop = compute_sampling_weights(pop)\n",
        "print(weights_pop)"
      ],
      "metadata": {
        "colab": {
          "base_uri": "https://localhost:8080/"
        },
        "id": "g5lCqEvhPTAn",
        "outputId": "23f92fe1-ddaf-4f34-abeb-a0571305acff"
      },
      "execution_count": 17,
      "outputs": [
        {
          "output_type": "stream",
          "name": "stdout",
          "text": [
            "    STRATUM  CLUSTER_ID2  ELEMENT  sampling_weight\n",
            "0         1            1        1          240.000\n",
            "1         1            1        2          240.000\n",
            "2         1            1        3          240.000\n",
            "3         1            1        4          240.000\n",
            "4         1            2        5          220.000\n",
            "5         1            2        6          220.000\n",
            "6         1            2        7          220.000\n",
            "7         1            2        8          220.000\n",
            "8         2            3        9           70.000\n",
            "9         2            3       10           70.000\n",
            "10        2            3       11           70.000\n",
            "11        2            3       12           70.000\n",
            "12        2            4       13          465.000\n",
            "13        2            4       14          465.000\n",
            "14        2            4       15          465.000\n",
            "15        2            4       16          465.000\n",
            "16        3            5       17          319.000\n",
            "17        3            5       18          319.000\n",
            "18        3            5       19          319.000\n",
            "19        3            5       20          319.000\n",
            "20        3            6       21          192.125\n",
            "21        3            6       22          192.125\n",
            "22        3            6       23          192.125\n",
            "23        3            6       24          192.125\n",
            "24        4            7       25          219.000\n",
            "25        4            7       26          219.000\n",
            "26        4            7       27          219.000\n",
            "27        4            7       28          219.000\n",
            "28        4            8       29          183.000\n",
            "29        4            8       30          183.000\n",
            "30        4            8       31          183.000\n",
            "31        4            8       32          183.000\n",
            "32        5            9       33          121.500\n",
            "33        5            9       34          121.500\n",
            "34        5            9       35          121.500\n",
            "35        5            9       36          121.500\n",
            "36        5           10       37          114.750\n",
            "37        5           10       38          114.750\n",
            "38        5           10       39          114.750\n",
            "39        5           10       40          114.750\n"
          ]
        }
      ]
    },
    {
      "cell_type": "markdown",
      "source": [
        "\n",
        "\n",
        "---\n",
        "\n"
      ],
      "metadata": {
        "id": "VCywW-u9bDDx"
      }
    },
    {
      "cell_type": "markdown",
      "source": [
        "## Q1 b What is the estimated increase in variance due to these weights? What is the assumption you have to rely on to compute this “weighting effect”?"
      ],
      "metadata": {
        "id": "41W9TEEqSeUJ"
      }
    },
    {
      "cell_type": "code",
      "source": [
        "def compute_weighting_effect(file_path):\n",
        "\n",
        "    df = pop.copy()\n",
        "\n",
        "    df['sampling_weight'] = 1 / df['PROB']\n",
        "\n",
        "    # Calculating Coefficient of Variation Squared (CV^2)\n",
        "    mean_w = df['sampling_weight'].mean()\n",
        "    var_w = df['sampling_weight'].var()\n",
        "    cv_squared = var_w / (mean_w ** 2)\n",
        "\n",
        "    # Weighting effect\n",
        "    weighting_effect = 1 + cv_squared\n",
        "\n",
        "    return weighting_effect"
      ],
      "metadata": {
        "id": "_4jgW6XhSti5"
      },
      "execution_count": 18,
      "outputs": []
    },
    {
      "cell_type": "code",
      "source": [
        "we = compute_weighting_effect(pop)\n",
        "print(we)"
      ],
      "metadata": {
        "colab": {
          "base_uri": "https://localhost:8080/"
        },
        "id": "-iGvzHvZTRZr",
        "outputId": "071d9b0a-0941-4258-fbca-6496a8288ce6"
      },
      "execution_count": 20,
      "outputs": [
        {
          "output_type": "stream",
          "name": "stdout",
          "text": [
            "1.257268559903654\n"
          ]
        }
      ]
    },
    {
      "cell_type": "markdown",
      "source": [
        "##The weghitng effect is 1.257268. The assumption we have to rely on is that of independently random sampling between each stratum."
      ],
      "metadata": {
        "id": "kRCegM6RTZLb"
      }
    },
    {
      "cell_type": "markdown",
      "source": [
        "\n",
        "\n",
        "---\n",
        "\n"
      ],
      "metadata": {
        "id": "KEW5rRtbbBh7"
      }
    },
    {
      "cell_type": "markdown",
      "source": [
        "##Q 1 c Complete the table with weighted cluster totals (*Wha* is the sum of theweights in the cluster, *Uha* is the weighted cluster total for BMI and *Vha* si the weighted cluster total for the number of women who have ever been pregnant in the cluster )"
      ],
      "metadata": {
        "id": "_0J13ZkIUoJR"
      }
    },
    {
      "cell_type": "code",
      "source": [
        "def compute_weighted_cluster_totals(pop):\n",
        "\n",
        "    required_cols = ['STRATUM', 'CLUSTER_ID2', 'BMI', 'EVERPREG', 'PROB']\n",
        "    for col in required_cols:\n",
        "        if col not in pop.columns:\n",
        "            raise ValueError(f\"Missing required column: '{col}'\")\n",
        "\n",
        "    #Sampling Weights\n",
        "    pop['sampling_weight'] = 1 / pop['PROB']\n",
        "\n",
        "    # Assign Cluster Index α (1, 2 within each Stratum)\n",
        "    pop['α'] = pop.groupby('STRATUM')['CLUSTER_ID2'].rank(method='dense').astype(int)\n",
        "\n",
        "    #Weighted Totals Per Cluster\n",
        "    grouped = pop.groupby(['STRATUM', 'α', 'CLUSTER_ID2']).agg(\n",
        "        w_hα=('sampling_weight', 'sum'),   # Sum of weights in the cluster\n",
        "        u_hα=('BMI', lambda x: (x * pop.loc[x.index, 'sampling_weight']).sum()),  # Weighted BMI total\n",
        "        v_hα=('EVERPREG', lambda x: (x * pop.loc[x.index, 'sampling_weight']).sum())  # Weighted EVERPREG total\n",
        "    ).reset_index()\n",
        "\n",
        "    grouped.rename(columns={'STRATUM': 'h', 'CLUSTER_ID2': 'CLUSTER_ID'}, inplace=True)\n",
        "\n",
        "\n",
        "    total_row = grouped[['w_hα', 'u_hα', 'v_hα']].sum()\n",
        "    total_row_df = pd.DataFrame([['Total', '', '', *total_row]], columns=grouped.columns)\n",
        "    final_table = pd.concat([grouped, total_row_df], ignore_index=True)\n",
        "    return final_table\n",
        "\n",
        "\n",
        "table = compute_weighted_cluster_totals(pop)\n",
        "\n",
        "\n",
        "from google.colab import data_table\n",
        "data_table.DataTable(table)\n",
        "\n"
      ],
      "metadata": {
        "colab": {
          "base_uri": "https://localhost:8080/",
          "height": 359
        },
        "id": "Kzdv9JITTm61",
        "outputId": "4558a732-ab61-4fc4-a7a4-494049660d41"
      },
      "execution_count": 25,
      "outputs": [
        {
          "output_type": "execute_result",
          "data": {
            "text/html": [
              "<div>\n",
              "<style scoped>\n",
              "    .dataframe tbody tr th:only-of-type {\n",
              "        vertical-align: middle;\n",
              "    }\n",
              "\n",
              "    .dataframe tbody tr th {\n",
              "        vertical-align: top;\n",
              "    }\n",
              "\n",
              "    .dataframe thead th {\n",
              "        text-align: right;\n",
              "    }\n",
              "</style>\n",
              "<table border=\"1\" class=\"dataframe\">\n",
              "  <thead>\n",
              "    <tr style=\"text-align: right;\">\n",
              "      <th></th>\n",
              "      <th>h</th>\n",
              "      <th>α</th>\n",
              "      <th>CLUSTER_ID</th>\n",
              "      <th>w_hα</th>\n",
              "      <th>u_hα</th>\n",
              "      <th>v_hα</th>\n",
              "    </tr>\n",
              "  </thead>\n",
              "  <tbody>\n",
              "    <tr>\n",
              "      <th>0</th>\n",
              "      <td>1</td>\n",
              "      <td>1</td>\n",
              "      <td>1</td>\n",
              "      <td>960.0</td>\n",
              "      <td>27360.000</td>\n",
              "      <td>960.00</td>\n",
              "    </tr>\n",
              "    <tr>\n",
              "      <th>1</th>\n",
              "      <td>1</td>\n",
              "      <td>2</td>\n",
              "      <td>2</td>\n",
              "      <td>880.0</td>\n",
              "      <td>24640.000</td>\n",
              "      <td>440.00</td>\n",
              "    </tr>\n",
              "    <tr>\n",
              "      <th>2</th>\n",
              "      <td>2</td>\n",
              "      <td>1</td>\n",
              "      <td>3</td>\n",
              "      <td>280.0</td>\n",
              "      <td>6650.000</td>\n",
              "      <td>140.00</td>\n",
              "    </tr>\n",
              "    <tr>\n",
              "      <th>3</th>\n",
              "      <td>2</td>\n",
              "      <td>2</td>\n",
              "      <td>4</td>\n",
              "      <td>1860.0</td>\n",
              "      <td>59055.000</td>\n",
              "      <td>1395.00</td>\n",
              "    </tr>\n",
              "    <tr>\n",
              "      <th>4</th>\n",
              "      <td>3</td>\n",
              "      <td>1</td>\n",
              "      <td>5</td>\n",
              "      <td>1276.0</td>\n",
              "      <td>35090.000</td>\n",
              "      <td>1276.00</td>\n",
              "    </tr>\n",
              "    <tr>\n",
              "      <th>5</th>\n",
              "      <td>3</td>\n",
              "      <td>2</td>\n",
              "      <td>6</td>\n",
              "      <td>768.5</td>\n",
              "      <td>19788.875</td>\n",
              "      <td>384.25</td>\n",
              "    </tr>\n",
              "    <tr>\n",
              "      <th>6</th>\n",
              "      <td>4</td>\n",
              "      <td>1</td>\n",
              "      <td>7</td>\n",
              "      <td>876.0</td>\n",
              "      <td>28251.000</td>\n",
              "      <td>876.00</td>\n",
              "    </tr>\n",
              "    <tr>\n",
              "      <th>7</th>\n",
              "      <td>4</td>\n",
              "      <td>2</td>\n",
              "      <td>8</td>\n",
              "      <td>732.0</td>\n",
              "      <td>20496.000</td>\n",
              "      <td>366.00</td>\n",
              "    </tr>\n",
              "    <tr>\n",
              "      <th>8</th>\n",
              "      <td>5</td>\n",
              "      <td>1</td>\n",
              "      <td>9</td>\n",
              "      <td>486.0</td>\n",
              "      <td>13972.500</td>\n",
              "      <td>486.00</td>\n",
              "    </tr>\n",
              "    <tr>\n",
              "      <th>9</th>\n",
              "      <td>5</td>\n",
              "      <td>2</td>\n",
              "      <td>10</td>\n",
              "      <td>459.0</td>\n",
              "      <td>13196.250</td>\n",
              "      <td>344.25</td>\n",
              "    </tr>\n",
              "    <tr>\n",
              "      <th>10</th>\n",
              "      <td>Total</td>\n",
              "      <td></td>\n",
              "      <td></td>\n",
              "      <td>8577.5</td>\n",
              "      <td>248499.625</td>\n",
              "      <td>6667.50</td>\n",
              "    </tr>\n",
              "  </tbody>\n",
              "</table>\n",
              "</div>"
            ],
            "application/vnd.google.colaboratory.module+javascript": "\n      import \"https://ssl.gstatic.com/colaboratory/data_table/e523c247d1e24a05/data_table.js\";\n\n      const table = window.createDataTable({\n        data: [[{\n            'v': 0,\n            'f': \"0\",\n        },\n1,\n1,\n1,\n{\n            'v': 960.0,\n            'f': \"960.0\",\n        },\n{\n            'v': 27360.0,\n            'f': \"27360.0\",\n        },\n{\n            'v': 960.0,\n            'f': \"960.0\",\n        }],\n [{\n            'v': 1,\n            'f': \"1\",\n        },\n1,\n2,\n2,\n{\n            'v': 879.9999999999999,\n            'f': \"879.9999999999999\",\n        },\n{\n            'v': 24639.999999999993,\n            'f': \"24639.999999999993\",\n        },\n{\n            'v': 439.99999999999994,\n            'f': \"439.99999999999994\",\n        }],\n [{\n            'v': 2,\n            'f': \"2\",\n        },\n2,\n1,\n3,\n{\n            'v': 280.0,\n            'f': \"280.0\",\n        },\n{\n            'v': 6650.0,\n            'f': \"6650.0\",\n        },\n{\n            'v': 140.0,\n            'f': \"140.0\",\n        }],\n [{\n            'v': 3,\n            'f': \"3\",\n        },\n2,\n2,\n4,\n{\n            'v': 1859.9999999999995,\n            'f': \"1859.9999999999995\",\n        },\n{\n            'v': 59054.999999999985,\n            'f': \"59054.999999999985\",\n        },\n{\n            'v': 1394.9999999999995,\n            'f': \"1394.9999999999995\",\n        }],\n [{\n            'v': 4,\n            'f': \"4\",\n        },\n3,\n1,\n5,\n{\n            'v': 1276.0,\n            'f': \"1276.0\",\n        },\n{\n            'v': 35090.0,\n            'f': \"35090.0\",\n        },\n{\n            'v': 1276.0,\n            'f': \"1276.0\",\n        }],\n [{\n            'v': 5,\n            'f': \"5\",\n        },\n3,\n2,\n6,\n{\n            'v': 768.5000000000001,\n            'f': \"768.5000000000001\",\n        },\n{\n            'v': 19788.875000000004,\n            'f': \"19788.875000000004\",\n        },\n{\n            'v': 384.25000000000006,\n            'f': \"384.25000000000006\",\n        }],\n [{\n            'v': 6,\n            'f': \"6\",\n        },\n4,\n1,\n7,\n{\n            'v': 876.0,\n            'f': \"876.0\",\n        },\n{\n            'v': 28251.0,\n            'f': \"28251.0\",\n        },\n{\n            'v': 876.0,\n            'f': \"876.0\",\n        }],\n [{\n            'v': 7,\n            'f': \"7\",\n        },\n4,\n2,\n8,\n{\n            'v': 732.0,\n            'f': \"732.0\",\n        },\n{\n            'v': 20496.0,\n            'f': \"20496.0\",\n        },\n{\n            'v': 366.0,\n            'f': \"366.0\",\n        }],\n [{\n            'v': 8,\n            'f': \"8\",\n        },\n5,\n1,\n9,\n{\n            'v': 486.00000000000006,\n            'f': \"486.00000000000006\",\n        },\n{\n            'v': 13972.500000000002,\n            'f': \"13972.500000000002\",\n        },\n{\n            'v': 486.00000000000006,\n            'f': \"486.00000000000006\",\n        }],\n [{\n            'v': 9,\n            'f': \"9\",\n        },\n5,\n2,\n10,\n{\n            'v': 459.00000000000006,\n            'f': \"459.00000000000006\",\n        },\n{\n            'v': 13196.250000000004,\n            'f': \"13196.250000000004\",\n        },\n{\n            'v': 344.25000000000006,\n            'f': \"344.25000000000006\",\n        }],\n [{\n            'v': 10,\n            'f': \"10\",\n        },\n\"Total\",\n\"\",\n\"\",\n{\n            'v': 8577.5,\n            'f': \"8577.5\",\n        },\n{\n            'v': 248499.62499999997,\n            'f': \"248499.62499999997\",\n        },\n{\n            'v': 6667.5,\n            'f': \"6667.5\",\n        }]],\n        columns: [[\"number\", \"index\"], [\"string\", \"h\"], [\"string\", \"\\u03b1\"], [\"string\", \"CLUSTER_ID\"], [\"number\", \"w_h\\u03b1\"], [\"number\", \"u_h\\u03b1\"], [\"number\", \"v_h\\u03b1\"]],\n        columnOptions: [{\"width\": \"1px\", \"className\": \"index_column\"}],\n        rowsPerPage: 25,\n        helpUrl: \"https://colab.research.google.com/notebooks/data_table.ipynb\",\n        suppressOutputScrolling: true,\n        minimumWidth: undefined,\n      });\n\n      function appendQuickchartButton(parentElement) {\n        let quickchartButtonContainerElement = document.createElement('div');\n        quickchartButtonContainerElement.innerHTML = `\n<div id=\"df-6d2ea262-a9db-409e-81e9-c553e71cc673\">\n  <button class=\"colab-df-quickchart\" onclick=\"quickchart('df-6d2ea262-a9db-409e-81e9-c553e71cc673')\"\n            title=\"Suggest charts\"\n            style=\"display:none;\">\n    \n<svg xmlns=\"http://www.w3.org/2000/svg\" height=\"24px\"viewBox=\"0 0 24 24\"\n     width=\"24px\">\n    <g>\n        <path d=\"M19 3H5c-1.1 0-2 .9-2 2v14c0 1.1.9 2 2 2h14c1.1 0 2-.9 2-2V5c0-1.1-.9-2-2-2zM9 17H7v-7h2v7zm4 0h-2V7h2v10zm4 0h-2v-4h2v4z\"/>\n    </g>\n</svg>\n  </button>\n  \n<style>\n  .colab-df-quickchart {\n      --bg-color: #E8F0FE;\n      --fill-color: #1967D2;\n      --hover-bg-color: #E2EBFA;\n      --hover-fill-color: #174EA6;\n      --disabled-fill-color: #AAA;\n      --disabled-bg-color: #DDD;\n  }\n\n  [theme=dark] .colab-df-quickchart {\n      --bg-color: #3B4455;\n      --fill-color: #D2E3FC;\n      --hover-bg-color: #434B5C;\n      --hover-fill-color: #FFFFFF;\n      --disabled-bg-color: #3B4455;\n      --disabled-fill-color: #666;\n  }\n\n  .colab-df-quickchart {\n    background-color: var(--bg-color);\n    border: none;\n    border-radius: 50%;\n    cursor: pointer;\n    display: none;\n    fill: var(--fill-color);\n    height: 32px;\n    padding: 0;\n    width: 32px;\n  }\n\n  .colab-df-quickchart:hover {\n    background-color: var(--hover-bg-color);\n    box-shadow: 0 1px 2px rgba(60, 64, 67, 0.3), 0 1px 3px 1px rgba(60, 64, 67, 0.15);\n    fill: var(--button-hover-fill-color);\n  }\n\n  .colab-df-quickchart-complete:disabled,\n  .colab-df-quickchart-complete:disabled:hover {\n    background-color: var(--disabled-bg-color);\n    fill: var(--disabled-fill-color);\n    box-shadow: none;\n  }\n\n  .colab-df-spinner {\n    border: 2px solid var(--fill-color);\n    border-color: transparent;\n    border-bottom-color: var(--fill-color);\n    animation:\n      spin 1s steps(1) infinite;\n  }\n\n  @keyframes spin {\n    0% {\n      border-color: transparent;\n      border-bottom-color: var(--fill-color);\n      border-left-color: var(--fill-color);\n    }\n    20% {\n      border-color: transparent;\n      border-left-color: var(--fill-color);\n      border-top-color: var(--fill-color);\n    }\n    30% {\n      border-color: transparent;\n      border-left-color: var(--fill-color);\n      border-top-color: var(--fill-color);\n      border-right-color: var(--fill-color);\n    }\n    40% {\n      border-color: transparent;\n      border-right-color: var(--fill-color);\n      border-top-color: var(--fill-color);\n    }\n    60% {\n      border-color: transparent;\n      border-right-color: var(--fill-color);\n    }\n    80% {\n      border-color: transparent;\n      border-right-color: var(--fill-color);\n      border-bottom-color: var(--fill-color);\n    }\n    90% {\n      border-color: transparent;\n      border-bottom-color: var(--fill-color);\n    }\n  }\n</style>\n\n  <script>\n    async function quickchart(key) {\n      const quickchartButtonEl =\n        document.querySelector('#' + key + ' button');\n      quickchartButtonEl.disabled = true;  // To prevent multiple clicks.\n      quickchartButtonEl.classList.add('colab-df-spinner');\n      try {\n        const charts = await google.colab.kernel.invokeFunction(\n            'suggestCharts', [key], {});\n      } catch (error) {\n        console.error('Error during call to suggestCharts:', error);\n      }\n      quickchartButtonEl.classList.remove('colab-df-spinner');\n      quickchartButtonEl.classList.add('colab-df-quickchart-complete');\n    }\n    (() => {\n      let quickchartButtonEl =\n        document.querySelector('#df-6d2ea262-a9db-409e-81e9-c553e71cc673 button');\n      quickchartButtonEl.style.display =\n        google.colab.kernel.accessAllowed ? 'block' : 'none';\n    })();\n  </script>\n</div>`;\n        parentElement.appendChild(quickchartButtonContainerElement);\n      }\n\n      appendQuickchartButton(table);\n    ",
            "text/plain": [
              "<google.colab.data_table.DataTable object>"
            ]
          },
          "metadata": {},
          "execution_count": 25
        }
      ]
    },
    {
      "cell_type": "markdown",
      "source": [
        "\n",
        "\n",
        "---\n",
        "\n"
      ],
      "metadata": {
        "id": "K4ety1xxa_zE"
      }
    },
    {
      "cell_type": "markdown",
      "source": [
        "## Q1 d Calculate the mean BMI, SE and 99% CI"
      ],
      "metadata": {
        "id": "fjhKDh2iZTSr"
      }
    },
    {
      "cell_type": "code",
      "source": [
        "\n",
        "def estimate_mean_bmi_fixed(pop, N=9300):\n",
        "    #sampling weights\n",
        "    pop['sampling_weight'] = 1 / pop['PROB']\n",
        "\n",
        "    #weighted mean BMI\n",
        "    mean_bmi = np.average(pop['BMI'], weights=pop['sampling_weight'])\n",
        "\n",
        "    # weighted variance\n",
        "    mean_diff_sq = (pop['BMI'] - mean_bmi) ** 2\n",
        "    weighted_var = np.sum(pop['sampling_weight'] * mean_diff_sq) / np.sum(pop['sampling_weight'])\n",
        "\n",
        "    # Compute standard error (SE)\n",
        "    se_bmi = np.sqrt(weighted_var / len(pop))\n",
        "\n",
        "    # Finite Population Correction (FPC)\n",
        "    if N:\n",
        "        fpc = np.sqrt((N - len(pop)) / (N - 1))\n",
        "        se_bmi *= fpc\n",
        "\n",
        "    # 99% Confidence Interval (CI)\n",
        "    z_score = stats.norm.ppf(0.995)  # 99% CI -> 0.5% in each tail\n",
        "    ci_lower = mean_bmi - z_score * se_bmi\n",
        "    ci_upper = mean_bmi + z_score * se_bmi\n",
        "\n",
        "    return mean_bmi, se_bmi, (ci_lower, ci_upper)\n",
        "\n",
        "# Compute results with FPC\n",
        "mean_bmi, se_bmi, ci_bmi = estimate_mean_bmi_fixed(pop)\n",
        "\n",
        "# Print results\n",
        "print(f\"Estimated Mean BMI: {mean_bmi:.4f}\")\n",
        "print(f\"Standard Error (SE): {se_bmi:.4f}\")\n",
        "print(f\"99% Confidence Interval: ({ci_bmi[0]:.4f}, {ci_bmi[1]:.4f})\")\n"
      ],
      "metadata": {
        "colab": {
          "base_uri": "https://localhost:8080/"
        },
        "id": "i7RzQcV8Zd9R",
        "outputId": "c4ca497b-9253-4253-9193-a414b61a9c8c"
      },
      "execution_count": 29,
      "outputs": [
        {
          "output_type": "stream",
          "name": "stdout",
          "text": [
            "Estimated Mean BMI: 28.9711\n",
            "Standard Error (SE): 1.2342\n",
            "99% Confidence Interval: (25.7919, 32.1503)\n"
          ]
        }
      ]
    },
    {
      "cell_type": "markdown",
      "source": [
        "## Estimated Mean BMI: 28.9711\n",
        "## Standard Error (SE): 1.2342\n",
        "## 99% Confidence Interval: (Lower 25.7919, Upper  32.1503)"
      ],
      "metadata": {
        "id": "AncLIt8qZx9_"
      }
    },
    {
      "cell_type": "markdown",
      "source": [
        "\n",
        "\n",
        "---\n",
        "\n"
      ],
      "metadata": {
        "id": "AjS67e7aa8XF"
      }
    },
    {
      "cell_type": "markdown",
      "source": [
        " ## Q1 e Compute the proportion of women who have ever been pregnant and its standard error."
      ],
      "metadata": {
        "id": "PxooA7JBarIO"
      }
    },
    {
      "cell_type": "code",
      "source": [
        "def estimate_proportion_everpreg(pop):\n",
        "\n",
        "    pop['sampling_weight'] = 1 / pop['PROB']\n",
        "\n",
        "    # Weighted proportion of women who have ever been pregnant\n",
        "    p_hat = np.average(pop['EVERPREG'], weights=pop['sampling_weight'])\n",
        "\n",
        "    # Variance calculation\n",
        "    var_p = np.sum(pop['sampling_weight']**2 * (pop['EVERPREG'] - p_hat)**2) / (np.sum(pop['sampling_weight'])**2)\n",
        "\n",
        "    # Standard Error (SE)\n",
        "    se_p = np.sqrt(var_p)\n",
        "\n",
        "    return p_hat, se_p\n",
        "\n",
        "p_hat, se_p = estimate_proportion_everpreg(pop)\n",
        "\n",
        "print(f\"Estimated Proportion of Ever Pregnant Women: {p_hat:.4f}\")\n",
        "print(f\"Standard Error (SE): {se_p:.4f}\")\n"
      ],
      "metadata": {
        "colab": {
          "base_uri": "https://localhost:8080/"
        },
        "id": "GudMipIqav2k",
        "outputId": "4e2de41e-7353-4935-ad3c-0262517813ad"
      },
      "execution_count": 30,
      "outputs": [
        {
          "output_type": "stream",
          "name": "stdout",
          "text": [
            "Estimated Proportion of Ever Pregnant Women: 0.7773\n",
            "Standard Error (SE): 0.0717\n"
          ]
        }
      ]
    },
    {
      "cell_type": "markdown",
      "source": [
        "##Estimated Proportion of Ever Pregnant Women: 0.7773\n",
        "Standard Error (SE): 0.0717"
      ],
      "metadata": {
        "id": "0S1xuByua6sh"
      }
    },
    {
      "cell_type": "markdown",
      "source": [
        "\n",
        "\n",
        "---\n",
        "\n"
      ],
      "metadata": {
        "id": "gO3sj3VKa9ta"
      }
    },
    {
      "cell_type": "markdown",
      "source": [
        "## Compute the design effect and roh for the mean in the above"
      ],
      "metadata": {
        "id": "eqy5u7EzbOHp"
      }
    },
    {
      "cell_type": "code",
      "source": [
        "import numpy as np\n",
        "import pandas as pd\n",
        "\n",
        "def deffrho(pop, b=4):\n",
        "\n",
        "    pop['sampling_weight'] = 1 / pop['PROB']\n",
        "\n",
        "    # weighted mean BMI\n",
        "    mean_bmi = np.average(pop['BMI'], weights=pop['sampling_weight'])\n",
        "\n",
        "    # variance under simple random sampling (SRS)\n",
        "    var_srs = np.var(pop['BMI'], ddof=1) / len(pop)\n",
        "\n",
        "    # CLuster meams\n",
        "    cluster_means = pop.groupby('CLUSTER_ID2').apply(\n",
        "        lambda x: np.average(x['BMI'], weights=x['sampling_weight'])\n",
        "    )\n",
        "\n",
        "    #between-cluster variance\n",
        "    var_between = np.var(cluster_means, ddof=1)\n",
        "    #within cluster variance\n",
        "    var_within = pop.groupby('CLUSTER_ID2').apply(\n",
        "        lambda x: np.var(x['BMI'], ddof=1)\n",
        "    ).mean()\n",
        "\n",
        "    # Deff\n",
        "    Deff = 1 + ((b * var_between) / var_within)\n",
        "\n",
        "    # Rho\n",
        "    roh = var_between / (var_within + var_between)\n",
        "\n",
        "    return Deff, roh\n",
        "\n",
        "\n",
        "Deff, roh = deffrho(pop)\n",
        "\n",
        "\n",
        "print(f\"Design Effect (Deff): {Deff:.4f}\")\n",
        "print(f\"Intraclass Correlation (Rho, ρ): {roh:.4f}\")\n"
      ],
      "metadata": {
        "colab": {
          "base_uri": "https://localhost:8080/"
        },
        "id": "V7V8aF4obPBC",
        "outputId": "7efc0f4e-24a1-444e-819a-75a20bc23387"
      },
      "execution_count": 37,
      "outputs": [
        {
          "output_type": "stream",
          "name": "stdout",
          "text": [
            "Design Effect (Deff): 1.3458\n",
            "Intraclass Correlation (Rho, ρ): 0.0796\n"
          ]
        },
        {
          "output_type": "stream",
          "name": "stderr",
          "text": [
            "<ipython-input-37-bf31eb8d9404>:15: DeprecationWarning: DataFrameGroupBy.apply operated on the grouping columns. This behavior is deprecated, and in a future version of pandas the grouping columns will be excluded from the operation. Either pass `include_groups=False` to exclude the groupings or explicitly select the grouping columns after groupby to silence this warning.\n",
            "  cluster_means = pop.groupby('CLUSTER_ID2').apply(\n",
            "<ipython-input-37-bf31eb8d9404>:22: DeprecationWarning: DataFrameGroupBy.apply operated on the grouping columns. This behavior is deprecated, and in a future version of pandas the grouping columns will be excluded from the operation. Either pass `include_groups=False` to exclude the groupings or explicitly select the grouping columns after groupby to silence this warning.\n",
            "  var_within = pop.groupby('CLUSTER_ID2').apply(\n"
          ]
        }
      ]
    },
    {
      "cell_type": "markdown",
      "source": [
        "## Design Effect (Deff): 1.3458\n",
        "## (Rho, ρ): 0.0796"
      ],
      "metadata": {
        "id": "hiRTob2Nberz"
      }
    },
    {
      "cell_type": "markdown",
      "source": [
        "\n",
        "\n",
        "---\n",
        "\n"
      ],
      "metadata": {
        "id": "fFCRe7Avbmq_"
      }
    },
    {
      "cell_type": "markdown",
      "source": [
        "## Q1 g Is the Taylor series approximation adequate for this problem?"
      ],
      "metadata": {
        "id": "oPjQdy_4ehdA"
      }
    },
    {
      "cell_type": "code",
      "source": [
        "# Coefficient of variation of weights\n",
        "cv_weights = pop['sampling_weight'].std() / pop['sampling_weight'].mean()\n",
        "\n",
        "\n",
        "print(f\"Coefficient of Variation (CV) of Weights: {cv_weights:.4f}\")\n",
        "\n",
        "# Check if Taylor approximation is adequate - using a rule of thumb , not super accurate\n",
        "if cv_weights < 0.3:\n",
        "    print(\"✅ Taylor series approximation is adequate for this problem.\")\n",
        "else:\n",
        "    print(\"❌ Taylor series approximation may underestimate variance.\")\n"
      ],
      "metadata": {
        "colab": {
          "base_uri": "https://localhost:8080/"
        },
        "id": "oZe04I4WblmY",
        "outputId": "78808c33-32ae-40a5-b737-060b9c45c429"
      },
      "execution_count": 40,
      "outputs": [
        {
          "output_type": "stream",
          "name": "stdout",
          "text": [
            "Coefficient of Variation (CV) of Weights: 0.5072\n",
            "❌ Taylor series approximation may underestimate variance.\n"
          ]
        }
      ]
    },
    {
      "cell_type": "markdown",
      "source": [
        "## Taylor series approximation may underestimate variance, and may not be enough for this problem."
      ],
      "metadata": {
        "id": "aLwaqvfUfX7n"
      }
    },
    {
      "cell_type": "markdown",
      "source": [
        "\n",
        "\n",
        "---\n",
        "\n"
      ],
      "metadata": {
        "id": "avXaLN80fpF2"
      }
    },
    {
      "cell_type": "markdown",
      "source": [
        "## Q 2 a ~12:00\n",
        "## Q 2 b 9.5"
      ],
      "metadata": {
        "id": "AWhaqXJZfegr"
      }
    },
    {
      "cell_type": "markdown",
      "source": [
        "\n",
        "\n",
        "---\n",
        "\n"
      ],
      "metadata": {
        "id": "Byj5TQRofqwJ"
      }
    }
  ]
}