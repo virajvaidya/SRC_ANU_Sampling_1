{
  "nbformat": 4,
  "nbformat_minor": 0,
  "metadata": {
    "colab": {
      "provenance": [],
      "mount_file_id": "1EWs0Tfq8wW4Nhy3mcZXUG-Oim9Da_qfx",
      "authorship_tag": "ABX9TyM/zezcJTCLEG+zeOhXfCR2",
      "include_colab_link": true
    },
    "kernelspec": {
      "name": "python3",
      "display_name": "Python 3"
    },
    "language_info": {
      "name": "python"
    }
  },
  "cells": [
    {
      "cell_type": "markdown",
      "metadata": {
        "id": "view-in-github",
        "colab_type": "text"
      },
      "source": [
        "<a href=\"https://colab.research.google.com/github/virajvaidya/SRC_ANU_Sampling_1/blob/main/HomeworkW3.ipynb\" target=\"_parent\"><img src=\"https://colab.research.google.com/assets/colab-badge.svg\" alt=\"Open In Colab\"/></a>"
      ]
    },
    {
      "cell_type": "code",
      "execution_count": 5,
      "metadata": {
        "id": "lUPxmSiByd-Y"
      },
      "outputs": [],
      "source": [
        "import pandas as pd\n",
        "import numpy as np\n",
        "import statistics as st\n",
        "import itertools as it\n",
        "from matplotlib import pyplot as plt\n",
        "from scipy.stats import norm"
      ]
    },
    {
      "cell_type": "code",
      "source": [
        "population = pd.read_excel('/content/drive/MyDrive/Sampling I - HW3 data.xlsx')"
      ],
      "metadata": {
        "id": "e9xsIok5zFv4"
      },
      "execution_count": 3,
      "outputs": []
    },
    {
      "cell_type": "markdown",
      "source": [
        "# I have combined the analysis of Q1 a,b,c, d into one function for ease of calculation and so as to not repeat the steps."
      ],
      "metadata": {
        "id": "A9Imihz8TAXY"
      }
    },
    {
      "cell_type": "code",
      "source": [
        "def stratified_estimates(file_path):\n",
        "    # Load the dataset\n",
        "    df = pd.read_excel('/content/drive/MyDrive/Sampling I - HW3 data.xlsx')\n",
        "\n",
        "    # Population sizes for each stratum (Nh)\n",
        "    Nh = np.array([2319, 2583, 2265, 1284, 849])\n",
        "    N = np.sum(Nh)  # Total population size\n",
        "\n",
        "    # Sample sizes per stratum\n",
        "    nh = df['STRATUM'].value_counts().sort_index().values  # Get sample sizes from data\n",
        "\n",
        "    # Compute weighted mean BMI\n",
        "    mean_BMI_stratum = df.groupby('STRATUM')['BMI'].mean().values\n",
        "    weighted_mean_BMI = np.sum((Nh / N) * mean_BMI_stratum)\n",
        "\n",
        "    # Compute standard error of mean BMI\n",
        "    var_BMI_stratum = df.groupby('STRATUM')['BMI'].var().values\n",
        "    SE_BMI = np.sqrt(np.sum((Nh / N) ** 2 * (var_BMI_stratum / nh)))\n",
        "\n",
        "    # 95% confidence interval for BMI\n",
        "    z = norm.ppf(0.975)  # Z-score for 95% CI\n",
        "    CI_BMI = (weighted_mean_BMI - z * SE_BMI, weighted_mean_BMI + z * SE_BMI)\n",
        "\n",
        "    # Estimate proportion of women ever pregnant\n",
        "    prop_EVERPREG_stratum = df.groupby('STRATUM')['EVERPREG'].mean().values\n",
        "    weighted_prop_EVERPREG = np.sum((Nh / N) * prop_EVERPREG_stratum)\n",
        "\n",
        "    # Standard error for proportion\n",
        "    SE_EVERPREG = np.sqrt(np.sum((Nh / N) ** 2 * (prop_EVERPREG_stratum * (1 - prop_EVERPREG_stratum) / nh)))\n",
        "\n",
        "    # Compute design effects\n",
        "    SRS_SE_BMI = np.std(df['BMI']) / np.sqrt(len(df))  # SRS standard error for BMI\n",
        "    DEFF_BMI = (SE_BMI ** 2) / (SRS_SE_BMI ** 2)\n",
        "\n",
        "    SRS_SE_EVERPREG = np.sqrt(weighted_prop_EVERPREG * (1 - weighted_prop_EVERPREG) / len(df))  # SRS standard error for proportion\n",
        "    DEFF_EVERPREG = (SE_EVERPREG ** 2) / (SRS_SE_EVERPREG ** 2)\n",
        "\n",
        "    # Compute proportionate allocation across strata\n",
        "    nh_prop = (Nh / N) * len(df)  # Proportionate allocation sample sizes\n",
        "    SE_BMI_prop = np.sqrt(np.sum((Nh / N) ** 2 * (var_BMI_stratum / nh_prop)))  # SE under proportionate allocation\n",
        "    DEFF_BMI_prop = (SE_BMI_prop ** 2) / (SRS_SE_BMI ** 2)  # Design effect under proportionate allocation\n",
        "\n",
        "    return {\n",
        "        'Mean BMI': weighted_mean_BMI,\n",
        "        'SE BMI': SE_BMI,\n",
        "        '95% CI BMI': CI_BMI,\n",
        "        'Proportion EVERPREG': weighted_prop_EVERPREG,\n",
        "        'SE EVERPREG': SE_EVERPREG,\n",
        "        'Design Effect BMI': DEFF_BMI,\n",
        "        'Design Effect EVERPREG': DEFF_EVERPREG,\n",
        "        'Proportionate Allocation': nh_prop,\n",
        "        'SE BMI Proportionate Allocation': SE_BMI_prop,\n",
        "        'Design Effect BMI Proportionate Allocation': DEFF_BMI_prop\n",
        "    }\n",
        "\n",
        "# Example usage (assume the file is in the current directory)\n",
        "file_path = 'Sampling I - HW3 data.xlsx'\n",
        "results = stratified_estimates(file_path)\n",
        "print(results)\n"
      ],
      "metadata": {
        "colab": {
          "base_uri": "https://localhost:8080/"
        },
        "id": "koHFZ0nu0eUH",
        "outputId": "62a24216-eff0-410c-cc53-2da930a31924"
      },
      "execution_count": 8,
      "outputs": [
        {
          "output_type": "stream",
          "name": "stdout",
          "text": [
            "{'Mean BMI': 27.45625, 'SE BMI': 1.3446294414233448, '95% CI BMI': (24.820824722258035, 30.091675277741967), 'Proportion EVERPREG': 0.6285483870967742, 'SE EVERPREG': 0.07931845450395476, 'Design Effect BMI': 1.3816409765079491, 'Design Effect EVERPREG': 1.0778728022747273, 'Proportionate Allocation': array([ 9.97419355, 11.10967742,  9.74193548,  5.52258065,  3.6516129 ]), 'SE BMI Proportionate Allocation': 1.222488667688469, 'Design Effect BMI Proportionate Allocation': 1.1420356381190746}\n"
          ]
        }
      ]
    },
    {
      "cell_type": "markdown",
      "source": [
        "\n",
        "#Mean BMI: 27.45625\n",
        "#SE BMI: 1.3446294414233448\n",
        "#95% CI BMI: Lower 24.820824722258035, Upper 30.091675277741967\n",
        "#Proportion EVERPREG: 0.6285483870967742 (62.85%)\n",
        "#SE EVERPREG: 0.07931845450395476\n",
        "#Design Effect BMI: 1.3816409765079491\n",
        "#Design Effect EVERPREG: 1.0778728022747273\n",
        "#Proportionate Allocation: Stratum 1: 9.97419355, Stratum 2: 11.10967742, Stratum 3:  9.74193548, Stratum 4:  5.52258065, Stratum 5:  3.6516129\n",
        "#SE BMI Proportionate Allocation: 1.222488667688469\n",
        "# Design Effect BMI Proportionate Allocation: 1.1420356381190746\n",
        "\n",
        "\n",
        "#Q1. (c) - Both Design Effects for BMI as well as EVERPREG are greater than 1, which means we may infer that the stratfied sampling is less efficient than what SRS would have been. The whole point of stratified sampling is to increase the efficiency over SRS, and we observe that this does not happen here.\n",
        "\n",
        "\n"
      ],
      "metadata": {
        "id": "8B28MOV8TYY1"
      }
    },
    {
      "cell_type": "markdown",
      "source": [
        "# Q1 (e) Neyman Allocation:"
      ],
      "metadata": {
        "id": "UA_tRWSDUTIY"
      }
    },
    {
      "cell_type": "code",
      "source": [
        "def neyman_allocation(file_path):\n",
        "    # Load the dataset\n",
        "    df = population\n",
        "\n",
        "    # Population sizes for each stratum (Nh)\n",
        "    Nh = np.array([2319, 2583, 2265, 1284, 849])\n",
        "    N = np.sum(Nh)  # Total population size\n",
        "\n",
        "    # Compute standard deviation of BMI per stratum\n",
        "    std_BMI_stratum = df.groupby('STRATUM')['BMI'].std().values\n",
        "\n",
        "    # Neyman allocation formula: nh_neyman = (Nh * std_BMI) / sum(Nh * std_BMI)\n",
        "    nh_neyman = (Nh * std_BMI_stratum) / np.sum(Nh * std_BMI_stratum) * len(df)\n",
        "\n",
        "    # Compute mean BMI per stratum\n",
        "    mean_BMI_stratum = df.groupby('STRATUM')['BMI'].mean().values\n",
        "\n",
        "    # Compute variance of BMI per stratum\n",
        "    var_BMI_stratum = df.groupby('STRATUM')['BMI'].var().values\n",
        "\n",
        "    # Compute weighted mean BMI\n",
        "    weighted_mean_BMI = np.sum((Nh / N) * mean_BMI_stratum)\n",
        "\n",
        "    # Compute standard error of BMI under Neyman allocation\n",
        "    SE_BMI_neyman = np.sqrt(np.sum((Nh / N) ** 2 * (var_BMI_stratum / nh_neyman)))\n",
        "\n",
        "    # Compute design effect under Neyman allocation\n",
        "    SRS_SE_BMI = np.std(df['BMI']) / np.sqrt(len(df))  # SRS standard error for BMI\n",
        "    DEFF_BMI_neyman = (SE_BMI_neyman ** 2) / (SRS_SE_BMI ** 2)\n",
        "\n",
        "    return {\n",
        "        'Neyman Allocation': nh_neyman,\n",
        "        'SE BMI Neyman Allocation': SE_BMI_neyman,\n",
        "        'Design Effect BMI Neyman Allocation': DEFF_BMI_neyman\n",
        "    }\n",
        "\n",
        "# Example usage\n",
        "file_path = 'Sampling I - HW3 data.xlsx'\n",
        "results = neyman_allocation(population)\n",
        "print(results)\n"
      ],
      "metadata": {
        "colab": {
          "base_uri": "https://localhost:8080/"
        },
        "id": "D7LAB_EW4QiF",
        "outputId": "54946466-c83c-44c9-fde6-4878f3cddaec"
      },
      "execution_count": 9,
      "outputs": [
        {
          "output_type": "stream",
          "name": "stdout",
          "text": [
            "{'Neyman Allocation': array([ 5.1091279 , 14.55064067, 12.97676182,  4.37404343,  2.98942618]), 'SE BMI Neyman Allocation': 1.154218121641673, 'Design Effect BMI Neyman Allocation': 1.018042127602847}\n"
          ]
        }
      ]
    },
    {
      "cell_type": "markdown",
      "source": [
        "#Neyman Allocation: array([ 5.1091279 , 14.55064067, 12.97676182,  4.37404343,  2.98942618])\n",
        "#SE BMI Neyman Allocation: 1.154218121641673\n",
        "#Design Effect BMI Neyman Allocation: 1.018042127602847"
      ],
      "metadata": {
        "id": "8G3EyiMnVnCT"
      }
    },
    {
      "cell_type": "markdown",
      "source": [
        "#Q2 : (a) 06h00m\n",
        "#q2 : (b) 7.5/10\n"
      ],
      "metadata": {
        "id": "JBMk_eM9V_0l"
      }
    }
  ]
}