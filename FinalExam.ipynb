{
  "nbformat": 4,
  "nbformat_minor": 0,
  "metadata": {
    "colab": {
      "provenance": [],
      "authorship_tag": "ABX9TyOfreO4G2wWDgcfruX9HSNF",
      "include_colab_link": true
    },
    "kernelspec": {
      "name": "python3",
      "display_name": "Python 3"
    },
    "language_info": {
      "name": "python"
    }
  },
  "cells": [
    {
      "cell_type": "markdown",
      "metadata": {
        "id": "view-in-github",
        "colab_type": "text"
      },
      "source": [
        "<a href=\"https://colab.research.google.com/github/virajvaidya/SRC_ANU_Sampling_1/blob/main/FinalExam.ipynb\" target=\"_parent\"><img src=\"https://colab.research.google.com/assets/colab-badge.svg\" alt=\"Open In Colab\"/></a>"
      ]
    },
    {
      "cell_type": "code",
      "source": [
        "import pandas as pd\n",
        "import numpy as np\n",
        "import statistics as st\n",
        "import itertools as it\n",
        "from matplotlib import pyplot as plt\n",
        "from scipy.stats import norm\n",
        "from scipy.stats import t\n",
        "import math"
      ],
      "metadata": {
        "id": "Sb7TdBy1-xDL"
      },
      "execution_count": 2,
      "outputs": []
    },
    {
      "cell_type": "markdown",
      "source": [
        "# Q1"
      ],
      "metadata": {
        "id": "WY7rWovF-sov"
      }
    },
    {
      "cell_type": "code",
      "execution_count": 8,
      "metadata": {
        "colab": {
          "base_uri": "https://localhost:8080/"
        },
        "id": "B75unvhop45v",
        "outputId": "920aea03-54b5-4986-8e78-eb48ba22b38f"
      },
      "outputs": [
        {
          "output_type": "stream",
          "name": "stdout",
          "text": [
            "Required sample size: 1153\n"
          ]
        }
      ],
      "source": [
        "confidence_level = 0.95\n",
        "E = 0.025\n",
        "Z = norm.ppf(1 - (1 - confidence_level) / 2)\n",
        "\n",
        "# Proportion that maximizes p(1-p) within [0.7, 0.9] is p = 0.75\n",
        "p = 0.75\n",
        "\n",
        "# Sample size calculation\n",
        "n = (Z**2 * p * (1 - p)) / (E**2)\n",
        "sample_size = math.ceil(n)\n",
        "\n",
        "print(\"Required sample size:\", sample_size)\n",
        "\n",
        "\n"
      ]
    },
    {
      "cell_type": "markdown",
      "source": [
        "Answer: The required sample size that maximises p(1-p) between 0.7 and 0.9 is  1153."
      ],
      "metadata": {
        "id": "9eJ3chjV_-Na"
      }
    },
    {
      "cell_type": "markdown",
      "source": [
        "\n",
        "\n",
        "---\n",
        "\n"
      ],
      "metadata": {
        "id": "4rd1auHqBR3X"
      }
    },
    {
      "cell_type": "markdown",
      "source": [
        "# Q2 a"
      ],
      "metadata": {
        "id": "0P36Kg-1BPre"
      }
    },
    {
      "cell_type": "code",
      "source": [
        "# Cluster totals of hours slept (y_alpha)\n",
        "y = np.array([325, 105, 95, 165, 110, 255, 155, 225, 165, 225])\n",
        "\n",
        "# Cluster sizes (x_alpha)\n",
        "x = np.array([40, 15, 15, 25, 15, 30, 25, 30, 20, 30])\n",
        "\n",
        "# Number of clusters\n",
        "n = len(y)\n",
        "\n",
        "# Overall mean hours per person\n",
        "mean_estimate = np.sum(y) / np.sum(x)\n",
        "\n",
        "# Per-cluster ratio estimates\n",
        "r = y / x\n",
        "\n",
        "# Sample mean of ratios\n",
        "r_bar = np.mean(r)\n",
        "\n",
        "# Standard error of the mean (without FPC, assuming large population of clusters)\n",
        "se = np.sqrt(np.sum((r - r_bar)**2) / (n * (n - 1)))\n",
        "\n",
        "print(f\"Estimated mean hours of sleep: {mean_estimate:.4f}\")\n",
        "print(f\"Standard error: {se:.4f}\")\n"
      ],
      "metadata": {
        "colab": {
          "base_uri": "https://localhost:8080/"
        },
        "id": "zPAV7ujVBOAo",
        "outputId": "4be5c95a-a7f8-4e0d-a92a-91bb1847440d"
      },
      "execution_count": 9,
      "outputs": [
        {
          "output_type": "stream",
          "name": "stdout",
          "text": [
            "Estimated mean hours of sleep: 7.4490\n",
            "Standard error: 0.2542\n"
          ]
        }
      ]
    },
    {
      "cell_type": "markdown",
      "source": [
        "Answer: Estimated mean hours of sleep - 7.4490\n",
        "Standard error of mean hours of sleep - 0.2542"
      ],
      "metadata": {
        "id": "HuAAFYMdBwul"
      }
    },
    {
      "cell_type": "markdown",
      "source": [
        "\n",
        "\n",
        "---\n",
        "\n"
      ],
      "metadata": {
        "id": "ru9_os9nCLyW"
      }
    },
    {
      "cell_type": "markdown",
      "source": [
        "#Q2 b"
      ],
      "metadata": {
        "id": "xwCuirrqCMz3"
      }
    },
    {
      "cell_type": "code",
      "source": [
        "# x_alpha values\n",
        "x = np.array([40, 15, 15, 25, 15, 30, 25, 30, 20, 30])\n",
        "\n",
        "# Mean and standard deviation\n",
        "x_bar = np.mean(x)\n",
        "s_x = np.std(x, ddof=1)\n",
        "\n",
        "# Coefficient of variation\n",
        "cv_x = s_x / x_bar\n",
        "\n",
        "print(f\"cv(x) = {cv_x:.4f}\")\n"
      ],
      "metadata": {
        "colab": {
          "base_uri": "https://localhost:8080/"
        },
        "id": "t361nw3yBylh",
        "outputId": "627127e0-07ca-46cc-8e9a-0d5d04201004"
      },
      "execution_count": 10,
      "outputs": [
        {
          "output_type": "stream",
          "name": "stdout",
          "text": [
            "cv(x) = 0.3395\n"
          ]
        }
      ]
    },
    {
      "cell_type": "markdown",
      "source": [
        "cv(x) less than 0.3 is considered as threshold for accepatability. Therefore we can say that this is borderline unacceptable."
      ],
      "metadata": {
        "id": "Mv_xveMXCTym"
      }
    },
    {
      "cell_type": "markdown",
      "source": [
        "\n",
        "\n",
        "---\n",
        "\n"
      ],
      "metadata": {
        "id": "krmtCdoHCjOF"
      }
    },
    {
      "cell_type": "markdown",
      "source": [
        "## Q2 c"
      ],
      "metadata": {
        "id": "scPchC07CkPc"
      }
    },
    {
      "cell_type": "code",
      "source": [
        "import numpy as np\n",
        "\n",
        "# Given values\n",
        "s2 = 12  # population variance\n",
        "se_cluster = 0.2542  # standard error from cluster sampling\n",
        "n_clusters = 10\n",
        "x = np.array([40, 15, 15, 25, 15, 30, 25, 30, 20, 30])\n",
        "\n",
        "# Total and average cluster size\n",
        "total_persons = np.sum(x)\n",
        "x_bar = np.mean(x)\n",
        "\n",
        "# Variance under SRS\n",
        "var_srs = s2 / total_persons\n",
        "\n",
        "# Variance from cluster sampling\n",
        "var_cluster = se_cluster ** 2\n",
        "\n",
        "# Design effect\n",
        "deff = var_cluster / var_srs\n",
        "\n",
        "# Intra-cluster correlation (roh)\n",
        "roh = (deff - 1) / (x_bar - 1)\n",
        "\n",
        "print(f\"Design effect (deff): {deff:.4f}\")\n",
        "print(f\"Intra-cluster correlation (roh): {roh:.4f}\")\n"
      ],
      "metadata": {
        "colab": {
          "base_uri": "https://localhost:8080/"
        },
        "id": "iskCp62rCnDo",
        "outputId": "9e790193-86ca-48e1-e55d-a1813eee5fcb"
      },
      "execution_count": 11,
      "outputs": [
        {
          "output_type": "stream",
          "name": "stdout",
          "text": [
            "Design effect (deff): 1.3193\n",
            "Intra-cluster correlation (roh): 0.0136\n"
          ]
        }
      ]
    },
    {
      "cell_type": "markdown",
      "source": [
        "deff : 1.3193\n",
        "Intra cluster correlation roh : 0.0136"
      ],
      "metadata": {
        "id": "3elFb26jDG_5"
      }
    },
    {
      "cell_type": "markdown",
      "source": [
        "\n",
        "\n",
        "---\n",
        "\n"
      ],
      "metadata": {
        "id": "JSdd_7R8DMay"
      }
    },
    {
      "cell_type": "markdown",
      "source": [
        "#Q2 d"
      ],
      "metadata": {
        "id": "kngQud0TDN1t"
      }
    },
    {
      "cell_type": "code",
      "source": [
        "\n",
        "c_a = 40 #cost per cluster\n",
        "c_b = 8  #cost per element\n",
        "rho = 0.0136\n",
        "\n",
        "# Optimal cluster size formula\n",
        "m_star = math.sqrt((c_a / c_b) * ((1 - rho) / rho))\n",
        "\n",
        "print(f\"Optimal cluster size (m*): {m_star:.2f}\")\n"
      ],
      "metadata": {
        "colab": {
          "base_uri": "https://localhost:8080/"
        },
        "id": "0gX9KJMwDNRA",
        "outputId": "8e5e7b4d-9674-407b-da33-caa17a9530d3"
      },
      "execution_count": 12,
      "outputs": [
        {
          "output_type": "stream",
          "name": "stdout",
          "text": [
            "Optimal cluster size (m*): 19.04\n"
          ]
        }
      ]
    },
    {
      "cell_type": "markdown",
      "source": [
        "Optimal cluster size is 19.04"
      ],
      "metadata": {
        "id": "WcSB8xzuDn98"
      }
    },
    {
      "cell_type": "markdown",
      "source": [
        "\n",
        "\n",
        "---\n",
        "\n"
      ],
      "metadata": {
        "id": "nmslKO5WDrJH"
      }
    },
    {
      "cell_type": "markdown",
      "source": [
        "#Q2 e"
      ],
      "metadata": {
        "id": "OUXBiRb8Ds_u"
      }
    },
    {
      "cell_type": "code",
      "source": [
        "# Given values\n",
        "S2 = 12\n",
        "n = 10\n",
        "m = 20\n",
        "rho = 0.0136\n",
        "\n",
        "# Variance formula\n",
        "variance = (S2 / (n * m)) * (1 + (m - 1) * rho)\n",
        "\n",
        "print(f\"Expected sampling variance: {variance:.4f}\")\n"
      ],
      "metadata": {
        "colab": {
          "base_uri": "https://localhost:8080/"
        },
        "id": "Fh4e2SB5DsVz",
        "outputId": "8ab69a0f-cd4f-4b17-c306-378f68b219f2"
      },
      "execution_count": 14,
      "outputs": [
        {
          "output_type": "stream",
          "name": "stdout",
          "text": [
            "Expected sampling variance: 0.0755\n"
          ]
        }
      ]
    },
    {
      "cell_type": "markdown",
      "source": [
        "Expected sampling variance - 0.0755"
      ],
      "metadata": {
        "id": "rJYxOMaaEMKk"
      }
    },
    {
      "cell_type": "markdown",
      "source": [
        "\n",
        "\n",
        "---\n",
        "\n"
      ],
      "metadata": {
        "id": "8ukgknz8ERqc"
      }
    },
    {
      "cell_type": "markdown",
      "source": [
        "#Q3"
      ],
      "metadata": {
        "id": "cjRL40L2FP3n"
      }
    },
    {
      "cell_type": "markdown",
      "source": [
        "Population size:\n",
        "\n",
        "N=1,000,000\n",
        "\n",
        "Sample size:\n",
        "\n",
        "n=800\n",
        "\n",
        "Largest number of strata: 800\n",
        "\n",
        "Reason:\n",
        "\n",
        "\n",
        "\n",
        "*   We need minimum one sample per stratum.\n",
        "*   We can have a max of 800 strata, with one sample from each.\n",
        "\n",
        "\n"
      ],
      "metadata": {
        "id": "jvqZ1aUNFV7J"
      }
    },
    {
      "cell_type": "markdown",
      "source": [
        "\n",
        "\n",
        "---\n",
        "\n"
      ],
      "metadata": {
        "id": "bIzsbNwFFpSA"
      }
    },
    {
      "cell_type": "markdown",
      "source": [
        "#Q4\n",
        "\n",
        "**FALSE**\n",
        "\n",
        "- Stratified samples can have a design effect smaller than one, but not always.\n",
        "- Design effect depends on how similar eleemnts are within the strata.\n",
        "- If strata are homogeneous and properly selected, design effect is < 1\n",
        "- If strata are badly chosen or have high variability within them, design effect can be ≥ 1."
      ],
      "metadata": {
        "id": "4KglzDxkFlSO"
      }
    },
    {
      "cell_type": "markdown",
      "source": [
        "\n",
        "\n",
        "---\n",
        "\n"
      ],
      "metadata": {
        "id": "h5k_bC6SGEm7"
      }
    },
    {
      "cell_type": "markdown",
      "source": [
        "#Q5 a"
      ],
      "metadata": {
        "id": "xw31FKm9e0LK"
      }
    },
    {
      "cell_type": "code",
      "source": [
        "Nh = np.array([1000, 600, 400])       # Population size per stratum\n",
        "Sh2 = np.array([36, 64, 100])         # Variance per stratum\n",
        "\n",
        "# Total population size\n",
        "N = Nh.sum()\n",
        "\n",
        "# New total n\n",
        "n = 100\n",
        "\n",
        "# epsem: nh = n * (Nh / N)\n",
        "nh = n * (Nh / N)\n",
        "\n",
        "# Standard error formula for stratified sampling:\n",
        "# SE = sqrt( sum( ( (Nh/N)^2 ) * (Sh2 / nh) ) )\n",
        "Wh = Nh / N\n",
        "SE_squared_terms = (Wh ** 2) * (Sh2 / nh)\n",
        "SE = np.sqrt(SE_squared_terms.sum())\n",
        "\n",
        "print(SE)\n"
      ],
      "metadata": {
        "colab": {
          "base_uri": "https://localhost:8080/"
        },
        "id": "uuVj9mijFVpQ",
        "outputId": "9908d9ee-6ced-4ea8-abcf-9384d11ae031"
      },
      "execution_count": 3,
      "outputs": [
        {
          "output_type": "stream",
          "name": "stdout",
          "text": [
            "0.7563068160475616\n"
          ]
        }
      ]
    },
    {
      "cell_type": "markdown",
      "source": [
        "The expected SE of the overall mean for n=100 would be 0.756306"
      ],
      "metadata": {
        "id": "C6c_OjJvfI7v"
      }
    },
    {
      "cell_type": "markdown",
      "source": [
        "\n",
        "\n",
        "---\n",
        "\n"
      ],
      "metadata": {
        "id": "fqhB71MQfQhS"
      }
    },
    {
      "cell_type": "markdown",
      "source": [
        "#Q5 b"
      ],
      "metadata": {
        "id": "U8mHhTf4gA9V"
      }
    },
    {
      "cell_type": "code",
      "source": [
        "# Neyman allocation that minimizes variance: nh ∝ Nh * Sh\n",
        "Sh = np.sqrt(Sh2)\n",
        "\n",
        "# Neyman allocation : nh = n * (Nh * Sh) / sum(Nh * Sh)\n",
        "Nh_Sh = Nh * Sh\n",
        "nh_optimal = n * (Nh_Sh / Nh_Sh.sum())\n",
        "\n",
        "# Recalculate SE with Neyman allocation\n",
        "SE_neyman_squared_terms = (Wh ** 2) * (Sh2 / nh_optimal)\n",
        "SE_neyman = np.sqrt(SE_neyman_squared_terms.sum())\n",
        "\n",
        "# Deff = (SE_neyman^2) / (SE_simple_random^2)\n",
        "# SE with SRS: SE_srs = sqrt(S^2 / n), where S^2 = weighted avg var\n",
        "S2_weighted = (Nh / N * Sh2).sum()\n",
        "SE_srs = np.sqrt(S2_weighted / n)\n",
        "\n",
        "design_effect = (SE_neyman ** 2) / (SE_srs ** 2)\n",
        "\n",
        "SE_neyman, nh_optimal, design_effect\n"
      ],
      "metadata": {
        "colab": {
          "base_uri": "https://localhost:8080/"
        },
        "id": "WTOfCKPZfReR",
        "outputId": "79269e05-4942-4296-b8ed-41b3f5e3cc82"
      },
      "execution_count": 4,
      "outputs": [
        {
          "output_type": "execute_result",
          "data": {
            "text/plain": [
              "(np.float64(0.74),\n",
              " array([40.54054054, 32.43243243, 27.02702703]),\n",
              " np.float64(0.9573426573426572))"
            ]
          },
          "metadata": {},
          "execution_count": 4
        }
      ]
    },
    {
      "cell_type": "markdown",
      "source": [
        "Optimal allocation under Neyman allocation : Stratum 1 - 40.54\n",
        "Stratum 2 - 32.432\n",
        "Stratum 3 - 27.027\n",
        "\n",
        "Minimum SE - 0.74\n",
        "Deff - 0.9573"
      ],
      "metadata": {
        "id": "KeZvSTLifsZj"
      }
    },
    {
      "cell_type": "markdown",
      "source": [
        "\n",
        "\n",
        "---\n",
        "\n"
      ],
      "metadata": {
        "id": "hUP-aDN1f_Yc"
      }
    },
    {
      "cell_type": "markdown",
      "source": [
        "#Q6"
      ],
      "metadata": {
        "id": "K8GxaJgKgD4o"
      }
    },
    {
      "cell_type": "code",
      "source": [
        "# Population size\n",
        "N = 58\n",
        "# Sampling interval\n",
        "k = 10\n",
        "# Possible random starts: 1 to k\n",
        "random_starts = range(1, k + 1)\n",
        "\n",
        "sample_sizes = []\n",
        "\n",
        "for start in random_starts:\n",
        "    count = 0\n",
        "    i = start\n",
        "    while i <= N:\n",
        "        count += 1\n",
        "        i += k\n",
        "    sample_sizes.append(count)\n",
        "\n",
        "# Counting how many of the random starts give exactly 5 elements\n",
        "count_5_element_samples = sample_sizes.count(5)\n",
        "\n",
        "# Probability = (favorable outcomes) / (total possible starts)\n",
        "probability = count_5_element_samples / len(random_starts)\n",
        "\n",
        "sample_sizes, probability\n"
      ],
      "metadata": {
        "colab": {
          "base_uri": "https://localhost:8080/"
        },
        "id": "HWMSSZIZgFRr",
        "outputId": "190ffae9-10b2-4dc4-b004-4a7efc58c994"
      },
      "execution_count": 5,
      "outputs": [
        {
          "output_type": "execute_result",
          "data": {
            "text/plain": [
              "([6, 6, 6, 6, 6, 6, 6, 6, 5, 5], 0.2)"
            ]
          },
          "metadata": {},
          "execution_count": 5
        }
      ]
    },
    {
      "cell_type": "markdown",
      "source": [
        "Sample sizes for each random start (1–10): [6, 6, 6, 6, 6, 6, 6, 6, 5, 5]\n",
        "\n",
        "Probability of getting exactly 5 elements: 0.2"
      ],
      "metadata": {
        "id": "-EHkIzVihukU"
      }
    },
    {
      "cell_type": "markdown",
      "source": [
        "\n",
        "\n",
        "---\n",
        "\n"
      ],
      "metadata": {
        "id": "Uw_MWEwuh2eF"
      }
    },
    {
      "cell_type": "markdown",
      "source": [
        "#Q7"
      ],
      "metadata": {
        "id": "L1BC89pakfMX"
      }
    },
    {
      "cell_type": "code",
      "source": [
        "def systematic_sampling(population_size, sample_size, random_start):\n",
        "    interval = population_size / sample_size\n",
        "\n",
        "    selected_positions = []\n",
        "    for i in range(sample_size):\n",
        "        position = random_start + i * interval\n",
        "        selected_element = int(position)\n",
        "        if selected_element > population_size:\n",
        "            selected_element = selected_element % population_size\n",
        "            if selected_element == 0:\n",
        "                selected_element = population_size\n",
        "        selected_positions.append(selected_element)\n",
        "\n",
        "    return selected_positions\n",
        "\n",
        "population_size = 58  # Population size from question 6\n",
        "sample_size = 5\n",
        "random_start = 2.4\n",
        "\n",
        "\n",
        "interval = population_size / sample_size\n",
        "print(f\"Sampling interval: {interval}\")\n",
        "\n",
        "selected_elements = systematic_sampling(population_size, sample_size, random_start)\n",
        "print(f\"Selected elements using fractional interval method: {selected_elements}\")"
      ],
      "metadata": {
        "colab": {
          "base_uri": "https://localhost:8080/"
        },
        "id": "FwtXbrBGh3tl",
        "outputId": "b51fe7cc-cdc6-4b2e-c450-917e4e3a2a1a"
      },
      "execution_count": 6,
      "outputs": [
        {
          "output_type": "stream",
          "name": "stdout",
          "text": [
            "Sampling interval: 11.6\n",
            "Selected elements using fractional interval method: [2, 14, 25, 37, 48]\n"
          ]
        }
      ]
    },
    {
      "cell_type": "markdown",
      "source": [
        "Sampling interval - 11.6\n",
        "Selected elements usig FIM - 2,14,25,37,48"
      ],
      "metadata": {
        "id": "Wc-k1uZIkr-p"
      }
    },
    {
      "cell_type": "markdown",
      "source": [
        "\n",
        "\n",
        "---\n",
        "\n"
      ],
      "metadata": {
        "id": "I6HCpzI-iRcE"
      }
    },
    {
      "cell_type": "markdown",
      "source": [
        "#Q8 a"
      ],
      "metadata": {
        "id": "Vt8G732ok5R2"
      }
    },
    {
      "cell_type": "code",
      "source": [
        "\n",
        "# Creating dataframe from the table data\n",
        "data = {\n",
        "    'h': [1, 1, 2, 2, 3, 3, 4, 4, 5, 5, 6, 6],\n",
        "    'alpha': [1, 2, 1, 2, 1, 2, 1, 2, 1, 2, 1, 2],\n",
        "    'u_halpha': [20, 10, 5, 15, 3, 25, 5, 15, 6, 10, 11, 20],\n",
        "    'w_halpha': [100, 20, 20, 50, 5, 75, 50, 70, 30, 70, 20, 70]\n",
        "}\n",
        "\n",
        "df = pd.DataFrame(data)\n",
        "\n",
        "# Calculating the total weighted number of smokers and total weighted population\n",
        "total_smokers = sum(df['u_halpha'])\n",
        "total_population = sum(df['w_halpha'])\n",
        "\n",
        "# Estimating the proportion of smokers\n",
        "p_hat = total_smokers / total_population\n",
        "\n",
        "# Strata grouping\n",
        "strata_groups = df.groupby('h')\n",
        "\n",
        "# SE calcluation\n",
        "N = total_population\n",
        "var_p_hat = 0\n",
        "\n",
        "for h, stratum in strata_groups:\n",
        "    # Calculating stratum weight\n",
        "    W_h = sum(stratum['w_halpha']) / total_population\n",
        "\n",
        "    # Calculating stratum proportion\n",
        "    p_h = sum(stratum['u_halpha']) / sum(stratum['w_halpha'])\n",
        "\n",
        "    # No of sampled clusters in stratum\n",
        "    n_h = len(stratum)\n",
        "\n",
        "    # Calculating variance for this stratum\n",
        "    sum_squares = 0\n",
        "    for _, row in stratum.iterrows():\n",
        "        p_ha = row['u_halpha'] / row['w_halpha']\n",
        "        sum_squares += (p_ha - p_h) ** 2\n",
        "\n",
        "    # Variance contribution from this stratum\n",
        "    if n_h > 1:\n",
        "        var_h = (W_h ** 2) * ((1 - n_h/len(stratum)) / n_h) * (sum_squares / (n_h - 1))\n",
        "        var_p_hat += var_h\n",
        "\n",
        "# Standard error is the square root of the variance\n",
        "se_p_hat = math.sqrt(var_p_hat)\n",
        "\n",
        "print(f\"Estimated proportion of smokers: {p_hat:.4f}\")\n",
        "print(f\"Standard error of the estimate: {se_p_hat:.4f}\")"
      ],
      "metadata": {
        "colab": {
          "base_uri": "https://localhost:8080/"
        },
        "id": "TICDK1p0k2Bv",
        "outputId": "c6c69b57-5cc9-4db4-a0dc-680a0dd005d2"
      },
      "execution_count": 7,
      "outputs": [
        {
          "output_type": "stream",
          "name": "stdout",
          "text": [
            "Estimated proportion of smokers: 0.2500\n",
            "Standard error of the estimate: 0.0000\n"
          ]
        }
      ]
    },
    {
      "cell_type": "markdown",
      "source": [
        "Estimated proportion of smokers - 25%\n",
        "SE - 0.00\n",
        "\n",
        "I am not sure if SE=0 is correct but I am running out of time ofr the exam"
      ],
      "metadata": {
        "id": "DGgpEEIImWbV"
      }
    },
    {
      "cell_type": "markdown",
      "source": [
        "#Q8 b\n"
      ],
      "metadata": {
        "id": "69F29cKYlCGz"
      }
    },
    {
      "cell_type": "code",
      "source": [
        "# Data from above copied\n",
        "data = {\n",
        "    'h': [1, 1, 2, 2, 3, 3, 4, 4, 5, 5, 6, 6],\n",
        "    'alpha': [1, 2, 1, 2, 1, 2, 1, 2, 1, 2, 1, 2],\n",
        "    'u_halpha': [20, 10, 5, 15, 3, 25, 5, 15, 6, 10, 11, 20],\n",
        "    'w_halpha': [100, 20, 20, 50, 5, 75, 50, 70, 30, 70, 20, 70]\n",
        "}\n",
        "\n",
        "df = pd.DataFrame(data)\n",
        "\n",
        "# Original estimate of proportion\n",
        "total_smokers = sum(df['u_halpha'])\n",
        "total_population = sum(df['w_halpha'])\n",
        "p_hat = total_smokers / total_population\n",
        "print(f\"Original estimate of proportion: {p_hat:.6f}\")\n",
        "\n",
        "# BRR Hadamard matrix (8x8 orthogonal matrix)\n",
        "hadamard = np.array([\n",
        "    [+1, +1, +1, -1, +1, -1, -1, -1],\n",
        "    [-1, +1, +1, +1, -1, +1, -1, -1],\n",
        "    [-1, -1, +1, +1, +1, -1, +1, -1],\n",
        "    [+1, -1, -1, +1, +1, +1, -1, -1],\n",
        "    [-1, +1, -1, -1, +1, +1, +1, -1],\n",
        "    [+1, -1, +1, -1, -1, +1, +1, -1],\n",
        "    [+1, +1, -1, +1, -1, -1, +1, -1],\n",
        "    [-1, -1, -1, -1, -1, -1, -1, -1]\n",
        "])\n",
        "\n",
        "n_replicates = hadamard.shape[0]\n",
        "\n",
        "replicate_estimates = np.zeros(n_replicates)\n",
        "\n",
        "# For each replicate\n",
        "for r in range(n_replicates):\n",
        "    # Create a copy of the data for BRR weights\n",
        "    df_rep = df.copy()\n",
        "\n",
        "    # Apply BRR weights according to the Hadamard matrix\n",
        "    for h in range(1, 7):  # 6 strata\n",
        "        if h <= hadamard.shape[1]:  # Make sure we don't exceed the matrix dimensions\n",
        "            # For each stratum, we assign weights based on the Hadamard value\n",
        "            if hadamard[r, h-1] == 1:\n",
        "                # Keep PSU 1, zero out PSU 2\n",
        "                df_rep.loc[(df_rep['h'] == h) & (df_rep['alpha'] == 1), ['u_halpha', 'w_halpha']] *= 2\n",
        "                df_rep.loc[(df_rep['h'] == h) & (df_rep['alpha'] == 2), ['u_halpha', 'w_halpha']] = 0\n",
        "            else:  # hadamard[r, h-1] == -1\n",
        "                # Keep PSU 2, zero out PSU 1\n",
        "                df_rep.loc[(df_rep['h'] == h) & (df_rep['alpha'] == 1), ['u_halpha', 'w_halpha']] = 0\n",
        "                df_rep.loc[(df_rep['h'] == h) & (df_rep['alpha'] == 2), ['u_halpha', 'w_halpha']] *= 2\n",
        "\n",
        "    # Calculate the replicate estimate\n",
        "    rep_total_smokers = sum(df_rep['u_halpha'])\n",
        "    rep_total_population = sum(df_rep['w_halpha'])\n",
        "    replicate_estimates[r] = rep_total_smokers / rep_total_population\n",
        "\n",
        "    print(f\"Replicate {r+1} estimate: {replicate_estimates[r]:.6f}\")\n",
        "\n",
        "# Calculate the standard error using the BRR formula\n",
        "# SE²(p̂) = (1/R) * sum((p̂_r - p̂)²)\n",
        "se_squared = np.sum((replicate_estimates - p_hat) ** 2) / n_replicates\n",
        "se = np.sqrt(se_squared)\n",
        "\n",
        "print(f\"\\nReplicate estimates: {replicate_estimates}\")\n",
        "print(f\"Standard error using BRR: {se:.6f}\")"
      ],
      "metadata": {
        "colab": {
          "base_uri": "https://localhost:8080/"
        },
        "id": "-sw83ty2lIng",
        "outputId": "cbf2d686-e2b1-4eb2-a52f-7d5a92f00fba"
      },
      "execution_count": 8,
      "outputs": [
        {
          "output_type": "stream",
          "name": "stdout",
          "text": [
            "Original estimate of proportion: 0.250000\n",
            "Replicate 1 estimate: 0.233898\n",
            "Replicate 2 estimate: 0.237838\n",
            "Replicate 3 estimate: 0.262222\n",
            "Replicate 4 estimate: 0.252308\n",
            "Replicate 5 estimate: 0.306383\n",
            "Replicate 6 estimate: 0.234921\n",
            "Replicate 7 estimate: 0.220779\n",
            "Replicate 8 estimate: 0.267606\n",
            "\n",
            "Replicate estimates: [0.23389831 0.23783784 0.26222222 0.25230769 0.30638298 0.23492063\n",
            " 0.22077922 0.26760563]\n",
            "Standard error using BRR: 0.025328\n"
          ]
        }
      ]
    },
    {
      "cell_type": "markdown",
      "source": [
        "Original estimate of proportion: 0.250000\n",
        "Replicate 1 estimate: 0.233898\n",
        "Replicate 2 estimate: 0.237838\n",
        "Replicate 3 estimate: 0.262222\n",
        "Replicate 4 estimate: 0.252308\n",
        "Replicate 5 estimate: 0.306383\n",
        "Replicate 6 estimate: 0.234921\n",
        "Replicate 7 estimate: 0.220779\n",
        "Replicate 8 estimate: 0.267606\n"
      ],
      "metadata": {
        "id": "dvV3-z-9nleO"
      }
    },
    {
      "cell_type": "markdown",
      "source": [
        "\n",
        "\n",
        "---\n",
        "\n"
      ],
      "metadata": {
        "id": "mMj_65ODpHeH"
      }
    },
    {
      "cell_type": "markdown",
      "source": [
        "#Q8 c\n"
      ],
      "metadata": {
        "id": "VqXsQ6XzlD8E"
      }
    },
    {
      "cell_type": "markdown",
      "source": [
        "Standard error using BRR: 0.025328 (from above code)"
      ],
      "metadata": {
        "id": "wtiAKtjGnsf7"
      }
    },
    {
      "cell_type": "markdown",
      "source": [
        "\n",
        "\n",
        "---\n",
        "\n"
      ],
      "metadata": {
        "id": "k-np6GK-pIVk"
      }
    },
    {
      "cell_type": "markdown",
      "source": [
        "#Q8 d\n"
      ],
      "metadata": {
        "id": "BNAHWvYelF56"
      }
    },
    {
      "cell_type": "markdown",
      "source": [
        "Both are valid but I would choose BRR for below reasons:\n",
        "\n",
        "1. Perfect match for stratified design with two PSUs\n",
        "2. 8X8 (8)replications not that difficult computationally, any more would be exponentially more difficult, say 10x10 or more.\n",
        "\n"
      ],
      "metadata": {
        "id": "97EkGmn7pKdC"
      }
    },
    {
      "cell_type": "markdown",
      "source": [
        "\n",
        "\n",
        "---\n",
        "\n"
      ],
      "metadata": {
        "id": "uCdkSwjyiSwa"
      }
    },
    {
      "cell_type": "markdown",
      "source": [
        "#Q9\n",
        "\n",
        "FALSE\n",
        "In a probability sample , every element of the population may or may not have the same chance of being selected - Different types of sampling will lead to different probabilities. Every element will have a non-zero chace of being picked however."
      ],
      "metadata": {
        "id": "ZIPgnj8tiTv0"
      }
    },
    {
      "cell_type": "markdown",
      "source": [
        "\n",
        "\n",
        "---\n",
        "\n"
      ],
      "metadata": {
        "id": "TNGUtWvKjsPw"
      }
    },
    {
      "cell_type": "markdown",
      "source": [
        "#Q10 a"
      ],
      "metadata": {
        "id": "-jeOb5U9p5k6"
      }
    },
    {
      "cell_type": "code",
      "source": [
        "clusters = [1, 2, 3, 4, 5, 6, 7, 8, 9, 10]\n",
        "mos = [50, 65, 20, 30, 85, 80, 65, 35, 10, 65]\n",
        "cum_mos = [50, 115, 135, 165, 250, 330, 395, 430, 440, 505]\n",
        "\n",
        "a = 2  # Number of clusters to select\n",
        "min_size = 50  # Minimum size\n",
        "random_start = 80.1  # Random start\n",
        "\n",
        "\n",
        "def pps_systematic(clusters, mos, cum_mos, a, random_start, min_size):\n",
        "\n",
        "    total_mos = sum(mos)\n",
        "\n",
        "    k = total_mos / a\n",
        "    print(f\"Sampling interval k = {total_mos} / {a} = {k}\")\n",
        "\n",
        "    selection_numbers = [random_start + i * k for i in range(a)]\n",
        "    print(f\"Selection numbers: {selection_numbers}\")\n",
        "\n",
        "\n",
        "    selected_clusters = []\n",
        "    selected_indices = []\n",
        "\n",
        "    for selection_number in selection_numbers:\n",
        "        for i, cumulative in enumerate(cum_mos):\n",
        "            if selection_number <= cumulative:\n",
        "                selected_clusters.append(clusters[i])\n",
        "                selected_indices.append(i)\n",
        "                break\n",
        "\n",
        "    print(f\"Selected clusters: {selected_clusters}\")\n",
        "\n",
        "    linked_units = []\n",
        "    for i, cluster_index in enumerate(selected_indices):\n",
        "        if mos[cluster_index] < min_size:\n",
        "            next_index = cluster_index + 1\n",
        "            if next_index < len(clusters):\n",
        "                linked_units.append((clusters[cluster_index], clusters[next_index]))\n",
        "\n",
        "    #Probabilities of selection\n",
        "    probabilities = {}\n",
        "    for i, cluster in enumerate(clusters):\n",
        "        if mos[i] >= min_size:\n",
        "            prob = a * mos[i] / total_mos\n",
        "            probabilities[cluster] = prob\n",
        "        else:\n",
        "            if cluster in [pair[0] for pair in linked_units]:\n",
        "                linked_cluster = None\n",
        "                for pair in linked_units:\n",
        "                    if pair[0] == cluster:\n",
        "                        linked_cluster = pair[1]\n",
        "                        break\n",
        "\n",
        "                # For linked clusters, the probability is based on combined MOS\n",
        "                idx_linked = clusters.index(linked_cluster)\n",
        "                combined_mos = mos[i] + mos[idx_linked]\n",
        "                prob = a * combined_mos / total_mos\n",
        "                probabilities[f\"{cluster} (linked with {linked_cluster})\"] = prob\n",
        "\n",
        "            elif cluster in [pair[1] for pair in linked_units]:\n",
        "                continue\n",
        "            else:\n",
        "                prob = a * mos[i] / total_mos\n",
        "                probabilities[cluster] = prob\n",
        "\n",
        "    return {\n",
        "        'sampling_interval': k,\n",
        "        'selection_numbers': selection_numbers,\n",
        "        'selected_clusters': selected_clusters,\n",
        "        'linked_units': linked_units,\n",
        "        'probabilities': probabilities\n",
        "    }\n",
        "\n",
        "result = pps_systematic(clusters, mos, cum_mos, a, random_start, min_size)\n",
        "\n",
        "print(\"\\nResults:\")\n",
        "print(f\"Sampling interval (k): {result['sampling_interval']}\")\n",
        "print(f\"Selection numbers: {result['selection_numbers']}\")\n",
        "print(f\"Selected clusters: {result['selected_clusters']}\")\n",
        "\n",
        "if result['linked_units']:\n",
        "    print(\"\\nLinked units:\")\n",
        "    for pair in result['linked_units']:\n",
        "        print(f\"Cluster {pair[0]} linked with Cluster {pair[1]}\")\n",
        "\n",
        "print(\"\\nProbabilities of selection:\")\n",
        "for cluster, prob in result['probabilities'].items():\n",
        "    print(f\"{cluster}: {prob:.4f}\")\n",
        "\n",
        "\n",
        "print(\"\\nCompleted table:\")\n",
        "print(\"Cluster (α)  MOS_α      Cumulative MOS_α    Mark Selected Clusters    Linked Unit\")\n",
        "for i, cluster in enumerate(clusters):\n",
        "    selected = \"X\" if cluster in result['selected_clusters'] else \"\"\n",
        "\n",
        "    linked = \"\"\n",
        "    for pair in result['linked_units']:\n",
        "        if cluster == pair[0]:\n",
        "            linked = f\"{pair[1]}\"\n",
        "        elif cluster == pair[1]:\n",
        "            linked = f\"{pair[0]}\"\n",
        "\n",
        "    print(f\"{cluster:<12}{mos[i]:<10}{cum_mos[i]:<20}{selected:<25}{linked}\")"
      ],
      "metadata": {
        "colab": {
          "base_uri": "https://localhost:8080/"
        },
        "id": "1Rma-eQuriOA",
        "outputId": "69a6f509-2300-4ecd-b789-e0fd49d41303"
      },
      "execution_count": 14,
      "outputs": [
        {
          "output_type": "stream",
          "name": "stdout",
          "text": [
            "Sampling interval k = 505 / 2 = 252.5\n",
            "Selection numbers: [80.1, 332.6]\n",
            "Selected clusters: [2, 7]\n",
            "\n",
            "Results:\n",
            "Sampling interval (k): 252.5\n",
            "Selection numbers: [80.1, 332.6]\n",
            "Selected clusters: [2, 7]\n",
            "\n",
            "Probabilities of selection:\n",
            "1: 0.1980\n",
            "2: 0.2574\n",
            "3: 0.0792\n",
            "4: 0.1188\n",
            "5: 0.3366\n",
            "6: 0.3168\n",
            "7: 0.2574\n",
            "8: 0.1386\n",
            "9: 0.0396\n",
            "10: 0.2574\n",
            "\n",
            "Completed table:\n",
            "Cluster (α)  MOS_α      Cumulative MOS_α    Mark Selected Clusters    Linked Unit\n",
            "1           50        50                                           \n",
            "2           65        115                 X                        \n",
            "3           20        135                                          \n",
            "4           30        165                                          \n",
            "5           85        250                                          \n",
            "6           80        330                                          \n",
            "7           65        395                 X                        \n",
            "8           35        430                                          \n",
            "9           10        440                                          \n",
            "10          65        505                                          \n"
          ]
        }
      ]
    },
    {
      "cell_type": "markdown",
      "source": [
        "![10Atable.png](data:image/png;base64,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)"
      ],
      "metadata": {
        "id": "-UTy1fWTsWiq"
      }
    },
    {
      "cell_type": "markdown",
      "source": [
        "\n",
        "\n",
        "---\n",
        "\n"
      ],
      "metadata": {
        "id": "2q5Q1w1ssZg4"
      }
    },
    {
      "cell_type": "markdown",
      "source": [
        "#Q10 b"
      ],
      "metadata": {
        "id": "fQwftG8qsutI"
      }
    },
    {
      "cell_type": "markdown",
      "source": [
        "Cluster 2:\n",
        "\n",
        "Probability = 2 × 65 / 505 = 0.2574 (approximately 25.74%)\n",
        "\n",
        "Cluster 7:\n",
        "\n",
        "Probability = 2 × 65 / 505 = 0.2574 (approximately 25.74%)"
      ],
      "metadata": {
        "id": "QhCfMkudsw0_"
      }
    },
    {
      "cell_type": "markdown",
      "source": [
        "\n",
        "\n",
        "---\n",
        "\n"
      ],
      "metadata": {
        "id": "5fGJPV8cszgP"
      }
    }
  ]
}